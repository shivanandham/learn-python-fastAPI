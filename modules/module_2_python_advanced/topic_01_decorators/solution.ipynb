{
  "cells": [
    {
      "cell_type": "markdown",
      "metadata": {},
      "source": [
        "# Solution: Decorators\n",
        "\n",
        "## ⚠️ Try the exercise first!\n",
        "\n",
        "**Don't look at this solution until you've attempted the exercise yourself!**\n",
        "\n",
        "## Example Solutions\n",
        "\n",
        "Here are example solutions for the decorator exercises:\n"
      ]
    },
    {
      "cell_type": "code",
      "execution_count": null,
      "metadata": {},
      "outputs": [],
      "source": [
        "# Exercise 1: Basic Decorator\n",
        "import functools\n",
        "\n",
        "def prefix_decorator(func):\n",
        "    \"\"\"A decorator that adds a prefix to function results\"\"\"\n",
        "    @functools.wraps(func)\n",
        "    def wrapper(*args, **kwargs):\n",
        "        result = func(*args, **kwargs)\n",
        "        return f\"Result: {result}\"\n",
        "    return wrapper\n",
        "\n",
        "@prefix_decorator\n",
        "def greet(name):\n",
        "    \"\"\"Greet someone\"\"\"\n",
        "    return f\"Hello, {name}!\"\n",
        "\n",
        "result = greet(\"Alice\")\n",
        "print(result)\n"
      ]
    }
  ],
  "metadata": {
    "language_info": {
      "name": "python"
    }
  },
  "nbformat": 4,
  "nbformat_minor": 2
}
