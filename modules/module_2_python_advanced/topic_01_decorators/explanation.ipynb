{
  "cells": [
    {
      "cell_type": "markdown",
      "metadata": {},
      "source": [
        "# Decorators\n",
        "\n",
        "## Learning Objectives\n",
        "- Understand what decorators are and how they work\n",
        "- Learn to create simple and advanced decorators\n",
        "- Master decorator patterns and best practices\n",
        "- Practice using built-in decorators\n",
        "- Understand decorator composition and chaining\n",
        "\n",
        "## What You'll Learn\n",
        "- How decorators modify function behavior\n",
        "- Creating function decorators and class decorators\n",
        "- Using functools.wraps for proper metadata\n",
        "- Parameterized decorators\n",
        "- Common decorator patterns (timing, logging, caching)\n",
        "- Built-in decorators (@property, @staticmethod, @classmethod)\n"
      ]
    },
    {
      "cell_type": "markdown",
      "metadata": {},
      "source": [
        "## What are Decorators?\n",
        "\n",
        "Decorators are a powerful Python feature that allows you to modify or extend the behavior of functions or classes without permanently modifying them. Think of decorators as \"wrappers\" that add functionality around your existing code.\n"
      ]
    },
    {
      "cell_type": "markdown",
      "metadata": {},
      "source": [
        "## 1. Basic Decorator Concept\n",
        "\n",
        "Let's start with a simple example to understand the concept:\n"
      ]
    },
    {
      "cell_type": "code",
      "execution_count": null,
      "metadata": {},
      "outputs": [],
      "source": [
        "# A simple function\n",
        "def greet(name):\n",
        "    return f\"Hello, {name}!\"\n",
        "\n",
        "print(greet(\"Alice\"))\n",
        "\n",
        "# Now let's create a decorator that adds extra functionality\n",
        "def add_exclamation(func):\n",
        "    def wrapper(*args, **kwargs):\n",
        "        result = func(*args, **kwargs)\n",
        "        return result + \"!!!\"\n",
        "    return wrapper\n",
        "\n",
        "# Using the decorator\n",
        "@add_exclamation\n",
        "def greet(name):\n",
        "    return f\"Hello, {name}!\"\n",
        "\n",
        "print(greet(\"Alice\"))\n"
      ]
    },
    {
      "cell_type": "markdown",
      "metadata": {},
      "source": [
        "## 2. Understanding the Decorator Pattern\n",
        "\n",
        "The `@decorator` syntax is just syntactic sugar. These two approaches are equivalent:\n"
      ]
    },
    {
      "cell_type": "code",
      "execution_count": null,
      "metadata": {},
      "outputs": [],
      "source": [
        "# Method 1: Using @decorator syntax\n",
        "@add_exclamation\n",
        "def say_hello(name):\n",
        "    return f\"Hello, {name}!\"\n",
        "\n",
        "# Method 2: Manual decoration (what @decorator actually does)\n",
        "def say_goodbye(name):\n",
        "    return f\"Goodbye, {name}!\"\n",
        "\n",
        "say_goodbye = add_exclamation(say_goodbye)\n",
        "\n",
        "# Both methods produce the same result\n",
        "print(say_hello(\"Bob\"))\n",
        "print(say_goodbye(\"Bob\"))\n"
      ]
    },
    {
      "cell_type": "markdown",
      "metadata": {},
      "source": [
        "## 3. Using functools.wraps\n",
        "\n",
        "When creating decorators, it's important to preserve the original function's metadata. Use `functools.wraps` for this:\n"
      ]
    },
    {
      "cell_type": "code",
      "execution_count": null,
      "metadata": {},
      "outputs": [],
      "source": [
        "import functools\n",
        "\n",
        "# Without functools.wraps - metadata is lost\n",
        "def bad_decorator(func):\n",
        "    def wrapper(*args, **kwargs):\n",
        "        print(f\"Calling {func.__name__}\")\n",
        "        return func(*args, **kwargs)\n",
        "    return wrapper\n",
        "\n",
        "# With functools.wraps - metadata is preserved\n",
        "def good_decorator(func):\n",
        "    @functools.wraps(func)\n",
        "    def wrapper(*args, **kwargs):\n",
        "        print(f\"Calling {func.__name__}\")\n",
        "        return func(*args, **kwargs)\n",
        "    return wrapper\n",
        "\n",
        "@bad_decorator\n",
        "def example_bad():\n",
        "    \"\"\"This is a test function\"\"\"\n",
        "    return \"Hello\"\n",
        "\n",
        "@good_decorator\n",
        "def example_good():\n",
        "    \"\"\"This is a test function\"\"\"\n",
        "    return \"Hello\"\n",
        "\n",
        "print(\"Bad decorator:\")\n",
        "print(f\"Name: {example_bad.__name__}\")\n",
        "print(f\"Docstring: {example_bad.__doc__}\")\n",
        "\n",
        "print(\"\\nGood decorator:\")\n",
        "print(f\"Name: {example_good.__name__}\")\n",
        "print(f\"Docstring: {example_good.__doc__}\")\n"
      ]
    },
    {
      "cell_type": "markdown",
      "metadata": {},
      "source": [
        "## 4. Common Decorator Patterns\n",
        "\n",
        "Let's explore some practical decorator patterns:\n"
      ]
    },
    {
      "cell_type": "code",
      "execution_count": null,
      "metadata": {},
      "outputs": [],
      "source": [
        "# Timing Decorator\n",
        "import time\n",
        "import functools\n",
        "\n",
        "def timing_decorator(func):\n",
        "    \"\"\"A decorator that measures function execution time\"\"\"\n",
        "    @functools.wraps(func)\n",
        "    def wrapper(*args, **kwargs):\n",
        "        start_time = time.time()\n",
        "        result = func(*args, **kwargs)\n",
        "        end_time = time.time()\n",
        "        print(f\"{func.__name__} took {end_time - start_time:.4f} seconds\")\n",
        "        return result\n",
        "    return wrapper\n",
        "\n",
        "@timing_decorator\n",
        "def slow_function():\n",
        "    \"\"\"A function that takes some time to execute\"\"\"\n",
        "    time.sleep(0.1)  # Simulate work\n",
        "    return \"Done!\"\n",
        "\n",
        "result = slow_function()\n",
        "print(f\"Result: {result}\")\n"
      ]
    },
    {
      "cell_type": "code",
      "execution_count": null,
      "metadata": {},
      "outputs": [],
      "source": [
        "# Logging Decorator\n",
        "def log_calls(func):\n",
        "    \"\"\"A decorator that logs function calls\"\"\"\n",
        "    @functools.wraps(func)\n",
        "    def wrapper(*args, **kwargs):\n",
        "        print(f\"Calling {func.__name__} with args: {args}, kwargs: {kwargs}\")\n",
        "        result = func(*args, **kwargs)\n",
        "        print(f\"{func.__name__} returned: {result}\")\n",
        "        return result\n",
        "    return wrapper\n",
        "\n",
        "@log_calls\n",
        "def add_numbers(a, b):\n",
        "    \"\"\"Add two numbers\"\"\"\n",
        "    return a + b\n",
        "\n",
        "result = add_numbers(5, 3)\n",
        "print(f\"Final result: {result}\")\n"
      ]
    },
    {
      "cell_type": "code",
      "execution_count": null,
      "metadata": {},
      "outputs": [],
      "source": [
        "# Caching Decorator\n",
        "def memoize(func):\n",
        "    \"\"\"A simple caching decorator\"\"\"\n",
        "    cache = {}\n",
        "    \n",
        "    @functools.wraps(func)\n",
        "    def wrapper(*args, **kwargs):\n",
        "        # Create a key from arguments\n",
        "        key = str(args) + str(sorted(kwargs.items()))\n",
        "        \n",
        "        if key in cache:\n",
        "            print(f\"Cache hit for {func.__name__}\")\n",
        "            return cache[key]\n",
        "        \n",
        "        print(f\"Cache miss for {func.__name__}\")\n",
        "        result = func(*args, **kwargs)\n",
        "        cache[key] = result\n",
        "        return result\n",
        "    \n",
        "    return wrapper\n",
        "\n",
        "@memoize\n",
        "def fibonacci(n):\n",
        "    \"\"\"Calculate nth Fibonacci number\"\"\"\n",
        "    if n < 2:\n",
        "        return n\n",
        "    return fibonacci(n-1) + fibonacci(n-2)\n",
        "\n",
        "print(f\"fibonacci(10) = {fibonacci(10)}\")\n",
        "print(f\"fibonacci(10) = {fibonacci(10)}\")  # This should use cache\n"
      ]
    },
    {
      "cell_type": "markdown",
      "metadata": {},
      "source": [
        "## 5. Parameterized Decorators\n",
        "\n",
        "Sometimes you need decorators that accept parameters:\n"
      ]
    },
    {
      "cell_type": "code",
      "execution_count": null,
      "metadata": {},
      "outputs": [],
      "source": [
        "# Parameterized decorator\n",
        "def repeat(times):\n",
        "    \"\"\"A decorator that repeats a function a specified number of times\"\"\"\n",
        "    def decorator(func):\n",
        "        @functools.wraps(func)\n",
        "        def wrapper(*args, **kwargs):\n",
        "            for i in range(times):\n",
        "                print(f\"Call {i+1}:\")\n",
        "                result = func(*args, **kwargs)\n",
        "            return result\n",
        "        return wrapper\n",
        "    return decorator\n",
        "\n",
        "@repeat(3)\n",
        "def greet(name):\n",
        "    print(f\"Hello, {name}!\")\n",
        "\n",
        "greet(\"Alice\")\n"
      ]
    },
    {
      "cell_type": "markdown",
      "metadata": {},
      "source": [
        "## 6. Built-in Decorators\n",
        "\n",
        "Python provides several useful built-in decorators:\n"
      ]
    },
    {
      "cell_type": "code",
      "execution_count": null,
      "metadata": {},
      "outputs": [],
      "source": [
        "# @property decorator\n",
        "class Circle:\n",
        "    def __init__(self, radius):\n",
        "        self._radius = radius\n",
        "    \n",
        "    @property\n",
        "    def radius(self):\n",
        "        return self._radius\n",
        "    \n",
        "    @radius.setter\n",
        "    def radius(self, value):\n",
        "        if value < 0:\n",
        "            raise ValueError(\"Radius cannot be negative\")\n",
        "        self._radius = value\n",
        "    \n",
        "    @property\n",
        "    def area(self):\n",
        "        return 3.14159 * self._radius ** 2\n",
        "\n",
        "circle = Circle(5)\n",
        "print(f\"Radius: {circle.radius}\")\n",
        "print(f\"Area: {circle.area}\")\n",
        "\n",
        "circle.radius = 10\n",
        "print(f\"New radius: {circle.radius}\")\n",
        "print(f\"New area: {circle.area}\")\n"
      ]
    },
    {
      "cell_type": "code",
      "execution_count": null,
      "metadata": {},
      "outputs": [],
      "source": [
        "# @staticmethod and @classmethod decorators\n",
        "class MathUtils:\n",
        "    class_variable = \"This is a class variable\"\n",
        "    \n",
        "    def __init__(self, value):\n",
        "        self.value = value\n",
        "    \n",
        "    @staticmethod\n",
        "    def add(a, b):\n",
        "        \"\"\"Static method - doesn't need self or cls\"\"\"\n",
        "        return a + b\n",
        "    \n",
        "    @classmethod\n",
        "    def get_class_info(cls):\n",
        "        \"\"\"Class method - receives the class as first argument\"\"\"\n",
        "        return f\"Class: {cls.__name__}, Variable: {cls.class_variable}\"\n",
        "    \n",
        "    def instance_method(self):\n",
        "        \"\"\"Regular instance method\"\"\"\n",
        "        return f\"Instance value: {self.value}\"\n",
        "\n",
        "# Using static method\n",
        "result = MathUtils.add(5, 3)\n",
        "print(f\"Static method result: {result}\")\n",
        "\n",
        "# Using class method\n",
        "info = MathUtils.get_class_info()\n",
        "print(f\"Class method result: {info}\")\n",
        "\n",
        "# Using instance method\n",
        "math_obj = MathUtils(42)\n",
        "print(f\"Instance method result: {math_obj.instance_method()}\")\n"
      ]
    },
    {
      "cell_type": "markdown",
      "metadata": {},
      "source": [
        "## Summary\n",
        "\n",
        "You've learned about:\n",
        "\n",
        "1. **Basic Decorators** - Functions that modify other functions\n",
        "2. **functools.wraps** - Preserving function metadata\n",
        "3. **Common Patterns** - Timing, logging, caching decorators\n",
        "4. **Parameterized Decorators** - Decorators that accept parameters\n",
        "5. **Built-in Decorators** - @property, @staticmethod, @classmethod\n",
        "\n",
        "## Key Takeaways\n",
        "\n",
        "- Decorators are powerful tools for adding functionality without modifying original code\n",
        "- Always use `functools.wraps` to preserve function metadata\n",
        "- Decorators can be chained and parameterized\n",
        "- Built-in decorators provide common functionality for classes and methods\n",
        "- Decorators follow the \"decorator pattern\" - wrapping functions with additional behavior\n",
        "\n",
        "Ready to practice? Move on to the exercise notebook!\n"
      ]
    }
  ],
  "metadata": {
    "language_info": {
      "name": "python"
    }
  },
  "nbformat": 4,
  "nbformat_minor": 2
}
