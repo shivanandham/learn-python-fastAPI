{
  "cells": [
    {
      "cell_type": "markdown",
      "metadata": {},
      "source": [
        "# Exercise: Decorators\n",
        "\n",
        "## Part 1: Guided Implementation\n",
        "\n",
        "In this section, you'll create decorators using provided guidance and examples.\n",
        "\n",
        "## Part 2: Complete Decorator Creation\n",
        "\n",
        "In this section, you'll create decorators from scratch, choosing appropriate patterns and functionality.\n",
        "\n",
        "## Instructions\n",
        "1. Complete each exercise in order\n",
        "2. Use your own unique functionality (not the examples)\n",
        "3. Run the validation after each exercise\n",
        "4. Check the solution notebook only if you get stuck!"
      ]
    },
    {
      "cell_type": "markdown",
      "metadata": {},
      "source": [
        "## Exercise 1: Basic Decorator\n",
        "\n",
        "Create a simple decorator that adds a prefix to the return value of any function.\n",
        "\n"
      ]
    },
    {
      "cell_type": "code",
      "execution_count": null,
      "metadata": {},
      "outputs": [],
      "source": [
        "# TODO: Create a basic decorator\n",
        "# 1. Create a decorator function that takes a function as parameter\n",
        "# 2. Create a wrapper function that calls the original function\n",
        "# 3. Add a prefix (like \"Result: \") to the return value\n",
        "# 4. Use @functools.wraps to preserve metadata\n",
        "# 5. Apply the decorator to a test function\n",
        "\n",
        "import functools\n",
        "\n",
        "# Your decorator code here:\n",
        "\n",
        "# Your test function here:\n"
      ]
    },
    {
      "cell_type": "code",
      "execution_count": null,
      "metadata": {},
      "outputs": [],
      "source": [
        "# Validation for Exercise 1\n",
        "def validate_exercise_1():\n",
        "    \"\"\"Check if Exercise 1 decorator was created correctly\"\"\"\n",
        "    print(\"🔍 Validating Exercise 1...\")\n",
        "    print(\"=\" * 40)\n",
        "    \n",
        "    # Check if decorator exists and works\n",
        "    if 'prefix_decorator' in globals():\n",
        "        print(\"✅ Decorator function found!\")\n",
        "        \n",
        "        # Test the decorator\n",
        "        try:\n",
        "            @prefix_decorator\n",
        "            def test_func():\n",
        "                return \"Hello\"\n",
        "            \n",
        "            result = test_func()\n",
        "            if \"Result:\" in result or \"Output:\" in result or \"Prefix:\" in result:\n",
        "                print(\"✅ Decorator adds prefix correctly!\")\n",
        "                print(f\"✅ Result: {result}\")\n",
        "                return True\n",
        "            else:\n",
        "                print(\"⚠️  Decorator doesn't seem to add a prefix\")\n",
        "                return False\n",
        "        except Exception as e:\n",
        "            print(f\"❌ Error testing decorator: {e}\")\n",
        "            return False\n",
        "    else:\n",
        "        print(\"❌ Decorator function not found!\")\n",
        "        print(\"💡 Make sure you created a decorator function\")\n",
        "        return False\n",
        "\n",
        "validate_exercise_1()\n"
      ]
    }
  ],
  "metadata": {
    "language_info": {
      "name": "python"
    }
  },
  "nbformat": 4,
  "nbformat_minor": 2
}
