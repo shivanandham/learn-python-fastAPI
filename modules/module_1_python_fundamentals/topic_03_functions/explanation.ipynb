{
  "cells": [
    {
      "cell_type": "markdown",
      "metadata": {},
      "source": [
        "# Functions and Scope\n",
        "\n",
        "## Learning Objectives\n",
        "- Understand how to create and use functions\n",
        "- Learn about function parameters and return values\n",
        "- Understand variable scope in Python\n",
        "\n",
        "## What You'll Learn\n",
        "- Function definition and calling\n",
        "- Parameters and arguments\n",
        "- Return statements\n",
        "- Local vs global scope\n",
        "- Default parameters\n"
      ]
    },
    {
      "cell_type": "code",
      "execution_count": 1,
      "metadata": {},
      "outputs": [],
      "source": [
        "# 1. Basic Function Definition\n",
        "\n",
        "def greet():\n",
        "    \"\"\"A simple function that prints a greeting\"\"\"\n",
        "    print(\"Hello, World!\")\n"
      ]
    },
    {
      "cell_type": "code",
      "execution_count": 2,
      "metadata": {},
      "outputs": [
        {
          "name": "stdout",
          "output_type": "stream",
          "text": [
            "Hello, World!\n"
          ]
        }
      ],
      "source": [
        "# Call the function\n",
        "greet()\n"
      ]
    },
    {
      "cell_type": "markdown",
      "metadata": {},
      "source": [
        "## 2. Functions with Parameters\n",
        "\n",
        "Functions can accept input values called **parameters**. When you call the function, you provide **arguments** for these parameters.\n"
      ]
    },
    {
      "cell_type": "code",
      "execution_count": 3,
      "metadata": {},
      "outputs": [],
      "source": [
        "def greet_person(name):\n",
        "    \"\"\"Function that greets a specific person\"\"\"\n",
        "    print(f\"Hello, {name}!\")\n"
      ]
    },
    {
      "cell_type": "code",
      "execution_count": 4,
      "metadata": {},
      "outputs": [
        {
          "name": "stdout",
          "output_type": "stream",
          "text": [
            "Hello, Alice!\n",
            "Hello, Bob!\n"
          ]
        }
      ],
      "source": [
        "# Call the function with different arguments\n",
        "greet_person(\"Alice\")\n",
        "greet_person(\"Bob\")\n"
      ]
    },
    {
      "cell_type": "markdown",
      "metadata": {},
      "source": [
        "## 3. Functions with Return Values\n",
        "\n",
        "Functions can return values using the `return` statement. This allows you to use the function's result in other parts of your code.\n"
      ]
    },
    {
      "cell_type": "code",
      "execution_count": 5,
      "metadata": {},
      "outputs": [],
      "source": [
        "def add_numbers(a, b):\n",
        "    \"\"\"Function that adds two numbers and returns the result\"\"\"\n",
        "    result = a + b\n",
        "    return result\n"
      ]
    },
    {
      "cell_type": "code",
      "execution_count": 6,
      "metadata": {},
      "outputs": [
        {
          "name": "stdout",
          "output_type": "stream",
          "text": [
            "5 + 3 = 8\n"
          ]
        }
      ],
      "source": [
        "# Use the returned value\n",
        "sum_result = add_numbers(5, 3)\n",
        "print(f\"5 + 3 = {sum_result}\")\n"
      ]
    },
    {
      "cell_type": "markdown",
      "metadata": {},
      "source": [
        "## 4. Functions with Default Parameters\n",
        "\n",
        "You can provide default values for parameters. If no argument is provided, the default value is used.\n"
      ]
    },
    {
      "cell_type": "code",
      "execution_count": 7,
      "metadata": {},
      "outputs": [],
      "source": [
        "def create_profile(name, age, city=\"Unknown\"):\n",
        "    \"\"\"Function with default parameter\"\"\"\n",
        "    profile = f\"Name: {name}, Age: {age}, City: {city}\"\n",
        "    return profile\n"
      ]
    },
    {
      "cell_type": "code",
      "execution_count": 8,
      "metadata": {},
      "outputs": [
        {
          "name": "stdout",
          "output_type": "stream",
          "text": [
            "Name: Alice, Age: 25, City: Unknown\n"
          ]
        }
      ],
      "source": [
        "# Using default parameter\n",
        "profile1 = create_profile(\"Alice\", 25)\n",
        "print(profile1)\n"
      ]
    },
    {
      "cell_type": "code",
      "execution_count": 9,
      "metadata": {},
      "outputs": [
        {
          "name": "stdout",
          "output_type": "stream",
          "text": [
            "Name: Bob, Age: 30, City: New York\n"
          ]
        }
      ],
      "source": [
        "# Overriding default parameter\n",
        "profile2 = create_profile(\"Bob\", 30, \"New York\")\n",
        "print(profile2)\n"
      ]
    },
    {
      "cell_type": "markdown",
      "metadata": {},
      "source": [
        "## 5. Variable Scope\n",
        "\n",
        "Variables have different **scope** depending on where they are defined:\n",
        "- **Global variables**: Defined outside functions, accessible everywhere\n",
        "- **Local variables**: Defined inside functions, only accessible within that function\n"
      ]
    },
    {
      "cell_type": "code",
      "execution_count": 10,
      "metadata": {},
      "outputs": [],
      "source": [
        "# Global variable\n",
        "global_var = \"I'm global\"\n"
      ]
    },
    {
      "cell_type": "code",
      "execution_count": 11,
      "metadata": {},
      "outputs": [],
      "source": [
        "def scope_demo():\n",
        "    # Local variable\n",
        "    local_var = \"I'm local\"\n",
        "    print(f\"Inside function - Global: {global_var}\")\n",
        "    print(f\"Inside function - Local: {local_var}\")\n"
      ]
    },
    {
      "cell_type": "code",
      "execution_count": 12,
      "metadata": {},
      "outputs": [
        {
          "name": "stdout",
          "output_type": "stream",
          "text": [
            "Inside function - Global: I'm global\n",
            "Inside function - Local: I'm local\n"
          ]
        }
      ],
      "source": [
        "# Call the function\n",
        "scope_demo()\n"
      ]
    },
    {
      "cell_type": "code",
      "execution_count": 15,
      "metadata": {},
      "outputs": [
        {
          "name": "stdout",
          "output_type": "stream",
          "text": [
            "Outside function - Global: I'm global\n"
          ]
        }
      ],
      "source": [
        "# Access global variable outside function\n",
        "print(f\"Outside function - Global: {global_var}\")\n",
        "\n",
        "# This would cause an error - local_var is not accessible outside the function\n",
        "# print(local_var)  # Uncomment this line to see the error\n"
      ]
    },
    {
      "cell_type": "code",
      "execution_count": null,
      "metadata": {},
      "outputs": [],
      "source": []
    }
  ],
  "metadata": {
    "kernelspec": {
      "display_name": "Python 3",
      "language": "python",
      "name": "python3"
    },
    "language_info": {
      "codemirror_mode": {
        "name": "ipython",
        "version": 3
      },
      "file_extension": ".py",
      "mimetype": "text/x-python",
      "name": "python",
      "nbconvert_exporter": "python",
      "pygments_lexer": "ipython3",
      "version": "3.12.9"
    }
  },
  "nbformat": 4,
  "nbformat_minor": 2
}
