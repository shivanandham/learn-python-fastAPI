{
  "cells": [
    {
      "cell_type": "markdown",
      "metadata": {},
      "source": [
        "# Exercise: Functions and Scope\n",
        "\n",
        "## Your Task\n",
        "\n",
        "You'll create 4 different types of functions, each testing a specific concept:\n",
        "\n",
        "1. **Basic Function** - No parameters, no return value\n",
        "2. **Function with Parameters** - Takes input parameters\n",
        "3. **Function with Return Value** - Returns a calculated result\n",
        "4. **Function with Default Parameters** - Has default parameter values\n",
        "\n",
        "## Instructions\n",
        "1. Complete each exercise in order\n",
        "2. Test each function as you create it\n",
        "3. Run the validation to check your work\n",
        "\n",
        "## Requirements\n",
        "- All functions must have proper docstrings\n",
        "- Use appropriate parameter names\n",
        "- Follow the exact specifications for each function type\n"
      ]
    },
    {
      "cell_type": "markdown",
      "metadata": {},
      "source": [
        "## 1. Basic Function (No Parameters, No Return)\n",
        "\n",
        "Create a function called `say_hello` that:\n",
        "- Takes no parameters\n",
        "- Prints \"Hello, Python learner!\" to the console\n",
        "- Returns nothing (no return statement)\n",
        "- Has a proper docstring\n"
      ]
    },
    {
      "cell_type": "code",
      "execution_count": null,
      "metadata": {},
      "outputs": [],
      "source": [
        "def say_hello():\n",
        "    \"\"\"Your implementation here\"\"\"\n",
        "    pass\n"
      ]
    },
    {
      "cell_type": "code",
      "execution_count": null,
      "metadata": {},
      "outputs": [],
      "source": [
        "# Test your say_hello function\n",
        "say_hello()\n"
      ]
    },
    {
      "cell_type": "code",
      "execution_count": null,
      "metadata": {},
      "outputs": [],
      "source": [
        "# Validation for say_hello\n",
        "print(\"🔍 Validating say_hello...\")\n",
        "try:\n",
        "    # Capture the output to check if it prints correctly\n",
        "    import io\n",
        "    import sys\n",
        "    from contextlib import redirect_stdout\n",
        "    \n",
        "    f = io.StringIO()\n",
        "    with redirect_stdout(f):\n",
        "        say_hello()\n",
        "    output = f.getvalue().strip()\n",
        "    \n",
        "    if \"Hello, Python learner!\" in output:\n",
        "        print(\"✅ say_hello: Working correctly!\")\n",
        "    else:\n",
        "        print(f\"❌ say_hello: Expected 'Hello, Python learner!' but got '{output}'\")\n",
        "except Exception as e:\n",
        "    print(f\"❌ say_hello: Error - {e}\")\n"
      ]
    },
    {
      "cell_type": "markdown",
      "metadata": {},
      "source": [
        "## 2. Function with Parameters\n",
        "\n",
        "Create a function called `greet_person` that:\n",
        "- Takes one parameter: `name` (string)\n",
        "- Prints \"Hello, [name]!\" to the console\n",
        "- Returns nothing\n",
        "- Has a proper docstring\n"
      ]
    },
    {
      "cell_type": "code",
      "execution_count": null,
      "metadata": {},
      "outputs": [],
      "source": [
        "def greet_person(name):\n",
        "    \"\"\"Your implementation here\"\"\"\n",
        "    pass\n"
      ]
    },
    {
      "cell_type": "code",
      "execution_count": null,
      "metadata": {},
      "outputs": [],
      "source": [
        "# Test your greet_person function\n",
        "greet_person(\"Alice\")\n",
        "greet_person(\"Bob\")\n"
      ]
    },
    {
      "cell_type": "code",
      "execution_count": null,
      "metadata": {},
      "outputs": [],
      "source": [
        "# Validation for greet_person\n",
        "print(\"🔍 Validating greet_person...\")\n",
        "try:\n",
        "    import io\n",
        "    from contextlib import redirect_stdout\n",
        "    \n",
        "    f = io.StringIO()\n",
        "    with redirect_stdout(f):\n",
        "        greet_person(\"Test\")\n",
        "    output = f.getvalue().strip()\n",
        "    \n",
        "    if \"Hello, Test!\" in output:\n",
        "        print(\"✅ greet_person: Working correctly!\")\n",
        "    else:\n",
        "        print(f\"❌ greet_person: Expected 'Hello, Test!' but got '{output}'\")\n",
        "except Exception as e:\n",
        "    print(f\"❌ greet_person: Error - {e}\")\n"
      ]
    },
    {
      "cell_type": "markdown",
      "metadata": {},
      "source": [
        "## 3. Function with Return Value\n",
        "\n",
        "Create a function called `add_numbers` that:\n",
        "- Takes two parameters: `a` and `b` (both numbers)\n",
        "- Calculates and returns the sum of a and b\n",
        "- Does NOT print anything\n",
        "- Has a proper docstring\n"
      ]
    },
    {
      "cell_type": "code",
      "execution_count": null,
      "metadata": {},
      "outputs": [],
      "source": [
        "def add_numbers(a, b):\n",
        "    \"\"\"Your implementation here\"\"\"\n",
        "    pass\n"
      ]
    },
    {
      "cell_type": "code",
      "execution_count": null,
      "metadata": {},
      "outputs": [],
      "source": [
        "# Test your add_numbers function\n",
        "result1 = add_numbers(5, 3)\n",
        "result2 = add_numbers(10, 7)\n",
        "print(f\"5 + 3 = {result1}\")\n",
        "print(f\"10 + 7 = {result2}\")\n"
      ]
    },
    {
      "cell_type": "code",
      "execution_count": null,
      "metadata": {},
      "outputs": [],
      "source": [
        "# Validation for add_numbers\n",
        "print(\"🔍 Validating add_numbers...\")\n",
        "try:\n",
        "    if add_numbers(5, 3) == 8 and add_numbers(10, 7) == 17:\n",
        "        print(\"✅ add_numbers: Working correctly!\")\n",
        "    else:\n",
        "        print(\"❌ add_numbers: Not returning correct values\")\n",
        "except Exception as e:\n",
        "    print(f\"❌ add_numbers: Error - {e}\")\n"
      ]
    },
    {
      "cell_type": "markdown",
      "metadata": {},
      "source": [
        "## 4. Function with Default Parameters\n",
        "\n",
        "Create a function called `create_profile` that:\n",
        "- Takes three parameters: `name` (string), `age` (number), `city` (string, default \"Unknown\")\n",
        "- Returns a string in the format: \"Name: [name], Age: [age], City: [city]\"\n",
        "- Has a proper docstring\n"
      ]
    },
    {
      "cell_type": "code",
      "execution_count": null,
      "metadata": {},
      "outputs": [],
      "source": [
        "def create_profile(name, age, city=\"Unknown\"):\n",
        "    \"\"\"Your implementation here\"\"\"\n",
        "    pass\n"
      ]
    },
    {
      "cell_type": "code",
      "execution_count": null,
      "metadata": {},
      "outputs": [],
      "source": [
        "# Test your create_profile function\n",
        "profile1 = create_profile(\"Alice\", 25)\n",
        "profile2 = create_profile(\"Bob\", 30, \"New York\")\n",
        "print(profile1)\n",
        "print(profile2)\n"
      ]
    },
    {
      "cell_type": "code",
      "execution_count": null,
      "metadata": {},
      "outputs": [],
      "source": [
        "# Validation for create_profile\n",
        "print(\"🔍 Validating create_profile...\")\n",
        "try:\n",
        "    result1 = create_profile(\"Alice\", 25)\n",
        "    result2 = create_profile(\"Bob\", 30, \"New York\")\n",
        "    \n",
        "    if (\"Alice\" in result1 and \"25\" in result1 and \"Unknown\" in result1 and\n",
        "        \"Bob\" in result2 and \"30\" in result2 and \"New York\" in result2):\n",
        "        print(\"✅ create_profile: Working correctly!\")\n",
        "        print(\"✅ Default parameter handling: Working!\")\n",
        "    else:\n",
        "        print(\"❌ create_profile: Not returning correct format\")\n",
        "        print(f\"Result 1: {result1}\")\n",
        "        print(f\"Result 2: {result2}\")\n",
        "except Exception as e:\n",
        "    print(f\"❌ create_profile: Error - {e}\")\n"
      ]
    },
    {
      "cell_type": "markdown",
      "metadata": {},
      "source": [
        "## 🎯 Final Check\n",
        "\n",
        "Run the cell below to see if all your functions are working correctly!\n"
      ]
    },
    {
      "cell_type": "code",
      "execution_count": null,
      "metadata": {},
      "outputs": [],
      "source": [
        "# Final validation summary for Part 1\n",
        "print(\"🎉 Part 1 Validation Summary\")\n",
        "print(\"=\" * 50)\n",
        "\n",
        "all_functions_working = True\n",
        "\n",
        "# Check all functions exist and work\n",
        "functions_to_check = [\n",
        "    (\"say_hello\", lambda: \"Hello, Python learner!\" in str(say_hello())),\n",
        "    (\"greet_person\", lambda: \"Hello, Test!\" in str(greet_person(\"Test\"))),\n",
        "    (\"add_numbers\", lambda: add_numbers(5, 3) == 8),\n",
        "    (\"create_profile\", lambda: \"Alice\" in create_profile(\"Alice\", 25))\n",
        "]\n",
        "\n",
        "for func_name, test_func in functions_to_check:\n",
        "    try:\n",
        "        if test_func():\n",
        "            print(f\"✅ {func_name}: Working correctly!\")\n",
        "        else:\n",
        "            print(f\"❌ {func_name}: Not working as expected\")\n",
        "            all_functions_working = False\n",
        "    except Exception as e:\n",
        "        print(f\"❌ {func_name}: Error - {e}\")\n",
        "        all_functions_working = False\n",
        "\n",
        "print(\"=\" * 50)\n",
        "\n",
        "if all_functions_working:\n",
        "    print(\"🎉 Part 1 Complete! Moving to Part 2...\")\n",
        "else:\n",
        "    print(\"⚠️  Please fix the issues above before moving to Part 2.\")\n"
      ]
    },
    {
      "cell_type": "markdown",
      "metadata": {},
      "source": [
        "---\n",
        "\n",
        "## Part 2: Define Your Own Functions\n",
        "\n",
        "Now you'll create 4 functions from scratch - you must define the entire function (signature + body) yourself!\n",
        "\n",
        "**Requirements for Part 2:**\n",
        "- You must write the complete function definition\n",
        "- Include proper docstrings\n",
        "- Use appropriate parameter names\n",
        "- Follow the exact specifications\n"
      ]
    },
    {
      "cell_type": "markdown",
      "metadata": {},
      "source": [
        "## 5. Basic Function (Define Yourself)\n",
        "\n",
        "**Your Task**: Create a function called `display_message` that:\n",
        "- Takes no parameters\n",
        "- Prints \"Welcome to Python functions!\" to the console\n",
        "- Returns nothing\n",
        "- Has a proper docstring\n",
        "\n",
        "**You must write the complete function definition yourself!**\n"
      ]
    },
    {
      "cell_type": "code",
      "execution_count": null,
      "metadata": {},
      "outputs": [],
      "source": [
        "# Your code goes here - define the complete function\n",
        "# Remember: def function_name(): + docstring + body\n"
      ]
    },
    {
      "cell_type": "code",
      "execution_count": null,
      "metadata": {},
      "outputs": [],
      "source": [
        "# Test your display_message function\n",
        "display_message()\n"
      ]
    },
    {
      "cell_type": "code",
      "execution_count": null,
      "metadata": {},
      "outputs": [],
      "source": [
        "# Validation for display_message\n",
        "print(\"🔍 Validating display_message...\")\n",
        "try:\n",
        "    import io\n",
        "    from contextlib import redirect_stdout\n",
        "    \n",
        "    f = io.StringIO()\n",
        "    with redirect_stdout(f):\n",
        "        display_message()\n",
        "    output = f.getvalue().strip()\n",
        "    \n",
        "    if \"Welcome to Python functions!\" in output:\n",
        "        print(\"✅ display_message: Working correctly!\")\n",
        "    else:\n",
        "        print(f\"❌ display_message: Expected 'Welcome to Python functions!' but got '{output}'\")\n",
        "except Exception as e:\n",
        "    print(f\"❌ display_message: Error - {e}\")\n",
        "    print(\"💡 Make sure you've defined the function with the correct signature!\")\n"
      ]
    },
    {
      "cell_type": "markdown",
      "metadata": {},
      "source": [
        "## 6. Function with Parameters (Define Yourself)\n",
        "\n",
        "**Your Task**: Create a function called `calculate_area` that:\n",
        "- Takes two parameters: `length` and `width` (both numbers)\n",
        "- Calculates the area of a rectangle (length × width)\n",
        "- Returns the area as a number\n",
        "- Has a proper docstring\n",
        "\n",
        "**You must write the complete function definition yourself!**\n"
      ]
    },
    {
      "cell_type": "code",
      "execution_count": null,
      "metadata": {},
      "outputs": [],
      "source": [
        "# Your code goes here - define the complete function\n",
        "# Remember: def function_name(param1, param2): + docstring + body\n"
      ]
    },
    {
      "cell_type": "code",
      "execution_count": null,
      "metadata": {},
      "outputs": [],
      "source": [
        "# Test your calculate_area function\n",
        "area1 = calculate_area(5, 3)\n",
        "area2 = calculate_area(10, 7)\n",
        "print(f\"Area of 5x3 rectangle: {area1}\")\n",
        "print(f\"Area of 10x7 rectangle: {area2}\")\n"
      ]
    },
    {
      "cell_type": "code",
      "execution_count": null,
      "metadata": {},
      "outputs": [],
      "source": [
        "# Validation for calculate_area\n",
        "print(\"🔍 Validating calculate_area...\")\n",
        "try:\n",
        "    if calculate_area(5, 3) == 15 and calculate_area(10, 7) == 70:\n",
        "        print(\"✅ calculate_area: Working correctly!\")\n",
        "    else:\n",
        "        print(\"❌ calculate_area: Not returning correct values\")\n",
        "except Exception as e:\n",
        "    print(f\"❌ calculate_area: Error - {e}\")\n",
        "    print(\"💡 Make sure you've defined the function with the correct signature!\")\n"
      ]
    },
    {
      "cell_type": "markdown",
      "metadata": {},
      "source": [
        "## 7. Function with Return Value (Define Yourself)\n",
        "\n",
        "**Your Task**: Create a function called `is_even` that:\n",
        "- Takes one parameter: `number` (integer)\n",
        "- Returns `True` if the number is even, `False` if odd\n",
        "- Has a proper docstring\n",
        "\n",
        "**You must write the complete function definition yourself!**\n"
      ]
    },
    {
      "cell_type": "code",
      "execution_count": null,
      "metadata": {},
      "outputs": [],
      "source": [
        "# Your code goes here - define the complete function\n",
        "# Remember: def function_name(param): + docstring + body\n"
      ]
    },
    {
      "cell_type": "code",
      "execution_count": null,
      "metadata": {},
      "outputs": [],
      "source": [
        "# Test your is_even function\n",
        "print(f\"4 is even: {is_even(4)}\")\n",
        "print(f\"7 is even: {is_even(7)}\")\n",
        "print(f\"0 is even: {is_even(0)}\")\n"
      ]
    },
    {
      "cell_type": "code",
      "execution_count": null,
      "metadata": {},
      "outputs": [],
      "source": [
        "# Validation for is_even\n",
        "print(\"🔍 Validating is_even...\")\n",
        "try:\n",
        "    if is_even(4) == True and is_even(7) == False and is_even(0) == True:\n",
        "        print(\"✅ is_even: Working correctly!\")\n",
        "    else:\n",
        "        print(\"❌ is_even: Not returning correct boolean values\")\n",
        "except Exception as e:\n",
        "    print(f\"❌ is_even: Error - {e}\")\n",
        "    print(\"💡 Make sure you've defined the function with the correct signature!\")\n"
      ]
    },
    {
      "cell_type": "markdown",
      "metadata": {},
      "source": [
        "## 8. Function with Default Parameters (Define Yourself)\n",
        "\n",
        "**Your Task**: Create a function called `calculate_tip` that:\n",
        "- Takes two parameters: `bill_amount` (float) and `tip_percentage` (float, default 15.0)\n",
        "- Calculates the tip amount (bill_amount × tip_percentage / 100)\n",
        "- Returns the tip amount as a float\n",
        "- Has a proper docstring\n",
        "\n",
        "**You must write the complete function definition yourself!**\n"
      ]
    },
    {
      "cell_type": "code",
      "execution_count": null,
      "metadata": {},
      "outputs": [],
      "source": [
        "# Your code goes here - define the complete function\n",
        "# Remember: def function_name(param1, param2=default): + docstring + body\n"
      ]
    },
    {
      "cell_type": "code",
      "execution_count": null,
      "metadata": {},
      "outputs": [],
      "source": [
        "# Test your calculate_tip function\n",
        "tip1 = calculate_tip(50.0)\n",
        "tip2 = calculate_tip(100.0, 20.0)\n",
        "tip3 = calculate_tip(25.0)\n",
        "print(f\"Tip on $50 bill (default): ${tip1:.2f}\")\n",
        "print(f\"Tip on $100 bill (20%): ${tip2:.2f}\")\n",
        "print(f\"Tip on $25 bill (default): ${tip3:.2f}\")\n"
      ]
    },
    {
      "cell_type": "code",
      "execution_count": null,
      "metadata": {},
      "outputs": [],
      "source": [
        "# Validation for calculate_tip\n",
        "print(\"🔍 Validating calculate_tip...\")\n",
        "try:\n",
        "    tip1 = calculate_tip(50.0)\n",
        "    tip2 = calculate_tip(100.0, 20.0)\n",
        "    tip3 = calculate_tip(25.0)\n",
        "    \n",
        "    if abs(tip1 - 7.5) < 0.01 and abs(tip2 - 20.0) < 0.01 and abs(tip3 - 3.75) < 0.01:\n",
        "        print(\"✅ calculate_tip: Working correctly!\")\n",
        "        print(\"✅ Default parameter handling: Working!\")\n",
        "        print(\"✅ Custom parameter handling: Working!\")\n",
        "    else:\n",
        "        print(\"❌ calculate_tip: Not calculating tips correctly\")\n",
        "        print(f\"Expected: 7.5, 20.0, 3.75\")\n",
        "        print(f\"Got: {tip1}, {tip2}, {tip3}\")\n",
        "except Exception as e:\n",
        "    print(f\"❌ calculate_tip: Error - {e}\")\n",
        "    print(\"💡 Make sure you've defined the function with the correct signature!\")\n"
      ]
    },
    {
      "cell_type": "markdown",
      "metadata": {},
      "source": [
        "## 🎯 Final Check - Part 2\n",
        "\n",
        "Run the cell below to see if all your Part 2 functions are working correctly!\n"
      ]
    },
    {
      "cell_type": "code",
      "execution_count": null,
      "metadata": {},
      "outputs": [],
      "source": [
        "# Final validation summary for Part 2\n",
        "print(\"🎉 Part 2 Validation Summary\")\n",
        "print(\"=\" * 50)\n",
        "\n",
        "all_functions_working = True\n",
        "\n",
        "# Check all Part 2 functions exist and work\n",
        "functions_to_check = [\n",
        "    (\"display_message\", lambda: \"Welcome to Python functions!\" in str(display_message())),\n",
        "    (\"calculate_area\", lambda: calculate_area(5, 3) == 15),\n",
        "    (\"is_even\", lambda: is_even(4) == True and is_even(7) == False),\n",
        "    (\"calculate_tip\", lambda: abs(calculate_tip(50.0) - 7.5) < 0.01)\n",
        "]\n",
        "\n",
        "for func_name, test_func in functions_to_check:\n",
        "    try:\n",
        "        if test_func():\n",
        "            print(f\"✅ {func_name}: Working correctly!\")\n",
        "        else:\n",
        "            print(f\"❌ {func_name}: Not working as expected\")\n",
        "            all_functions_working = False\n",
        "    except Exception as e:\n",
        "        print(f\"❌ {func_name}: Error - {e}\")\n",
        "        all_functions_working = False\n",
        "\n",
        "print(\"=\" * 50)\n",
        "\n",
        "if all_functions_working:\n",
        "    print(\"🎉 Congratulations! All functions are working correctly!\")\n",
        "    print(\"✅ You have mastered function definition and implementation!\")\n",
        "    print(\"✅ You can move on to the next topic!\")\n",
        "else:\n",
        "    print(\"⚠️  Please fix the issues above and try again.\")\n",
        "    print(\"💡 Make sure you've defined all functions correctly!\")\n"
      ]
    }
  ],
  "metadata": {
    "language_info": {
      "name": "python"
    }
  },
  "nbformat": 4,
  "nbformat_minor": 2
}
