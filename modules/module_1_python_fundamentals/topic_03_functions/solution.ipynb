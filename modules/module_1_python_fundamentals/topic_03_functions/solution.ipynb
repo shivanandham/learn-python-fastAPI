{
  "cells": [
    {
      "cell_type": "markdown",
      "metadata": {},
      "source": [
        "# Solution: Functions and Scope\n",
        "\n",
        "## ⚠️ Try the exercise first!\n",
        "\n",
        "**Don't look at this solution until you've attempted the exercise yourself!**\n",
        "\n",
        "## Part 1: Guided Implementation Solutions\n",
        "\n",
        "Here are example solutions for the guided implementation exercises:\n"
      ]
    },
    {
      "cell_type": "code",
      "execution_count": null,
      "metadata": {},
      "outputs": [],
      "source": [
        "# Exercise 1: Basic Function\n",
        "def say_hello():\n",
        "    print(\"Hello, Python learner!\")\n",
        "\n",
        "# Test\n",
        "say_hello()\n"
      ]
    },
    {
      "cell_type": "code",
      "execution_count": null,
      "metadata": {},
      "outputs": [],
      "source": [
        "# Exercise 2: Function with Parameters\n",
        "def greet_person(name):\n",
        "    print(f\"Hello, {name}!\")\n",
        "\n",
        "# Test\n",
        "greet_person(\"Alice\")\n",
        "greet_person(\"Bob\")\n"
      ]
    },
    {
      "cell_type": "code",
      "execution_count": null,
      "metadata": {},
      "outputs": [],
      "source": [
        "# Exercise 3: Function with Return Value\n",
        "def add_numbers(a, b):\n",
        "    return a + b\n",
        "\n",
        "# Test\n",
        "result = add_numbers(5, 3)\n",
        "print(f\"5 + 3 = {result}\")\n",
        "\n",
        "result2 = add_numbers(10, 20)\n",
        "print(f\"10 + 20 = {result2}\")\n"
      ]
    },
    {
      "cell_type": "code",
      "execution_count": null,
      "metadata": {},
      "outputs": [],
      "source": [
        "# Exercise 4: Function with Default Parameters\n",
        "def create_profile(name, age, city=\"Unknown\"):\n",
        "    return f\"Name: {name}, Age: {age}, City: {city}\"\n",
        "\n",
        "# Test\n",
        "profile1 = create_profile(\"Alice\", 25)\n",
        "print(profile1)\n",
        "\n",
        "profile2 = create_profile(\"Bob\", 30, \"New York\")\n",
        "print(profile2)\n"
      ]
    },
    {
      "cell_type": "markdown",
      "metadata": {},
      "source": [
        "## Part 2: Complete Function Definition Solutions\n",
        "\n",
        "Here are example solutions for the complete function definition exercises:\n"
      ]
    },
    {
      "cell_type": "code",
      "execution_count": null,
      "metadata": {},
      "outputs": [],
      "source": [
        "# Exercise 5: Complete Basic Function\n",
        "def display_message():\n",
        "    \"\"\"Display a welcome message to Python learners\"\"\"\n",
        "    print(\"Welcome to Python functions!\")\n",
        "\n",
        "# Test\n",
        "display_message()\n"
      ]
    },
    {
      "cell_type": "code",
      "execution_count": null,
      "metadata": {},
      "outputs": [],
      "source": [
        "# Exercise 6: Complete Function with Parameters and Return\n",
        "def calculate_area(length, width):\n",
        "    \"\"\"Calculate the area of a rectangle given length and width\"\"\"\n",
        "    return length * width\n",
        "\n",
        "# Test\n",
        "area1 = calculate_area(5, 3)\n",
        "print(f\"Area of 5x3 rectangle: {area1}\")\n",
        "\n",
        "area2 = calculate_area(10, 7)\n",
        "print(f\"Area of 10x7 rectangle: {area2}\")\n"
      ]
    },
    {
      "cell_type": "code",
      "execution_count": null,
      "metadata": {},
      "outputs": [],
      "source": [
        "# Exercise 7: Complete Function with Conditional Logic\n",
        "def is_even(number):\n",
        "    \"\"\"Check if a number is even (returns True) or odd (returns False)\"\"\"\n",
        "    return number % 2 == 0\n",
        "\n",
        "# Test\n",
        "print(f\"4 is even: {is_even(4)}\")\n",
        "print(f\"7 is even: {is_even(7)}\")\n",
        "print(f\"0 is even: {is_even(0)}\")\n",
        "print(f\"-2 is even: {is_even(-2)}\")\n"
      ]
    },
    {
      "cell_type": "code",
      "execution_count": null,
      "metadata": {},
      "outputs": [],
      "source": [
        "# Exercise 8: Complete Function with Default Parameters\n",
        "def calculate_tip(bill_amount, tip_percentage=15.0):\n",
        "    \"\"\"Calculate tip amount based on bill and percentage (default 15%)\"\"\"\n",
        "    return bill_amount * (tip_percentage / 100)\n",
        "\n",
        "# Test\n",
        "tip1 = calculate_tip(100)\n",
        "print(f\"15% tip on $100: ${tip1:.2f}\")\n",
        "\n",
        "tip2 = calculate_tip(50, 20)\n",
        "print(f\"20% tip on $50: ${tip2:.2f}\")\n",
        "\n",
        "tip3 = calculate_tip(75, 18)\n",
        "print(f\"18% tip on $75: ${tip3:.2f}\")\n"
      ]
    },
    {
      "cell_type": "markdown",
      "metadata": {},
      "source": [
        "## 🎯 Key Learning Points\n",
        "\n",
        "1. **Function Definition**: Always include a docstring to explain what your function does\n",
        "2. **Parameters**: Use descriptive parameter names that make the function's purpose clear\n",
        "3. **Return Values**: Use `return` to send data back to the caller\n",
        "4. **Default Parameters**: Provide sensible defaults to make functions more flexible\n",
        "5. **Testing**: Always test your functions with different inputs to ensure they work correctly\n",
        "\n",
        "## 💡 Alternative Solutions\n",
        "\n",
        "There are often multiple ways to solve the same problem. For example:\n",
        "\n",
        "- `is_even()` could also be written as: `return not (number % 2)`\n",
        "- `calculate_tip()` could use integer division: `return int(bill_amount * tip_percentage / 100)`\n",
        "\n",
        "The important thing is that your solution works correctly and is readable!\n"
      ]
    }
  ],
  "metadata": {
    "language_info": {
      "name": "python"
    }
  },
  "nbformat": 4,
  "nbformat_minor": 2
}
