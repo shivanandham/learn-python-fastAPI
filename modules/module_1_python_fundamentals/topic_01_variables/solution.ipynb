{
  "cells": [
    {
      "cell_type": "markdown",
      "metadata": {},
      "source": [
        "# Solution: Variables and Data Types\n",
        "\n",
        "## ⚠️ Try the exercise first!\n",
        "\n",
        "**Don't look at this solution until you've attempted the exercise yourself!**\n",
        "\n",
        "## Part 1: Guided Implementation Solutions\n",
        "\n",
        "Here are example solutions for the guided implementation exercises:\n"
      ]
    },
    {
      "cell_type": "code",
      "execution_count": null,
      "metadata": {},
      "outputs": [],
      "source": [
        "# Exercise 1: Basic Variables\n",
        "my_name = \"John Doe\"\n",
        "my_age = 28\n",
        "my_height = 1.75\n",
        "learning_python = True\n",
        "\n",
        "print(f\"Name: {my_name}, Type: {type(my_name)}\")\n",
        "print(f\"Age: {my_age}, Type: {type(my_age)}\")\n",
        "print(f\"Height: {my_height}, Type: {type(my_height)}\")\n",
        "print(f\"Learning Python: {learning_python}, Type: {type(learning_python)}\")\n"
      ]
    },
    {
      "cell_type": "code",
      "execution_count": null,
      "metadata": {},
      "outputs": [],
      "source": [
        "# Exercise 2: Collections\n",
        "favorite_languages = [\"Python\", \"JavaScript\", \"Java\", \"C++\"]\n",
        "my_contact = {\n",
        "    \"email\": \"john@example.com\",\n",
        "    \"phone\": \"123-456-7890\",\n",
        "    \"city\": \"Boston\",\n",
        "    \"country\": \"USA\"\n",
        "}\n",
        "\n",
        "print(f\"Favorite Languages: {favorite_languages}, Type: {type(favorite_languages)}\")\n",
        "print(f\"Contact: {my_contact}, Type: {type(my_contact)}\")\n"
      ]
    },
    {
      "cell_type": "markdown",
      "metadata": {},
      "source": [
        "## Part 2: Complete Variable Creation Solutions\n",
        "\n",
        "Here are example solutions for the complete variable creation exercises:\n"
      ]
    },
    {
      "cell_type": "code",
      "execution_count": null,
      "metadata": {},
      "outputs": [],
      "source": [
        "# Exercise 3: Student Information\n",
        "student_full_name = \"Sarah Johnson\"\n",
        "student_gpa = 3.7\n",
        "is_student_enrolled = True\n",
        "student_courses = [\"Computer Science\", \"Mathematics\", \"Physics\", \"English\"]\n",
        "student_id_number = 2024001\n",
        "\n",
        "print(f\"Student Name: {student_full_name}, Type: {type(student_full_name)}\")\n",
        "print(f\"GPA: {student_gpa}, Type: {type(student_gpa)}\")\n",
        "print(f\"Is Enrolled: {is_student_enrolled}, Type: {type(is_student_enrolled)}\")\n",
        "print(f\"Course List: {student_courses}, Type: {type(student_courses)}\")\n",
        "print(f\"Student ID: {student_id_number}, Type: {type(student_id_number)}\")\n"
      ]
    },
    {
      "cell_type": "code",
      "execution_count": null,
      "metadata": {},
      "outputs": [],
      "source": [
        "# Exercise 4: Type Conversion Challenge\n",
        "age_as_string = \"22\"\n",
        "age_as_integer = int(age_as_string)\n",
        "age_as_float = float(age_as_string)\n",
        "\n",
        "score = 88.5\n",
        "score_as_string = str(score)\n",
        "score_as_boolean = bool(score)\n",
        "\n",
        "print(f\"Age as string: '{age_as_string}', Type: {type(age_as_string)}\")\n",
        "print(f\"Age as integer: {age_as_integer}, Type: {type(age_as_integer)}\")\n",
        "print(f\"Age as float: {age_as_float}, Type: {type(age_as_float)}\")\n",
        "print(f\"Score: {score}, Type: {type(score)}\")\n",
        "print(f\"Score as string: '{score_as_string}', Type: {type(score_as_string)}\")\n",
        "print(f\"Score as boolean: {score_as_boolean}, Type: {type(score_as_boolean)}\")\n"
      ]
    },
    {
      "cell_type": "markdown",
      "metadata": {},
      "source": [
        "## 🎯 Key Learning Points\n",
        "\n",
        "1. **Variable Naming**: Use descriptive names that explain what the variable contains\n",
        "2. **Data Types**: Choose appropriate types for your data (str, int, float, bool, list, dict)\n",
        "3. **Type Checking**: Use `type()` to verify what type of data a variable holds\n",
        "4. **Type Conversion**: Convert between types using `int()`, `str()`, `float()`, `bool()`\n",
        "5. **Collections**: Lists for ordered data, dictionaries for key-value pairs\n",
        "6. **Dynamic Typing**: Python automatically determines types, but you can convert when needed\n",
        "\n",
        "## 💡 Alternative Solutions\n",
        "\n",
        "There are often multiple ways to solve the same problem:\n",
        "\n",
        "- **Variable Names**: `student_name` vs `full_name` vs `name` - all are valid, choose what's clearest\n",
        "- **Type Conversion**: `int(\"25\")` vs `int(25.7)` - both work, but with different results\n",
        "- **Collections**: Lists vs tuples vs sets - choose based on whether you need mutability and uniqueness\n",
        "\n",
        "## 🚀 Next Steps\n",
        "\n",
        "You've mastered the fundamentals of variables and data types! You're ready to move on to:\n",
        "- Control structures (if/else, loops)\n",
        "- Functions and scope\n",
        "- More advanced data manipulation\n",
        "\n",
        "The important thing is that your solutions work correctly and are readable!\n"
      ]
    }
  ],
  "metadata": {
    "language_info": {
      "name": "python"
    }
  },
  "nbformat": 4,
  "nbformat_minor": 2
}
