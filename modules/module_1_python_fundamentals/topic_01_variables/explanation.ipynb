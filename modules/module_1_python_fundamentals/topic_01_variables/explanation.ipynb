{
  "cells": [
    {
      "cell_type": "markdown",
      "metadata": {},
      "source": [
        "# Variables and Data Types\n",
        "\n",
        "## Learning Objectives\n",
        "- Understand Python's dynamic typing system\n",
        "- Learn about basic data types\n",
        "- Practice creating and using variables\n",
        "- Master variable naming conventions\n",
        "- Understand type checking and conversion\n",
        "\n",
        "## What You'll Learn\n",
        "- How to create variables in Python\n",
        "- Different data types: strings, numbers, booleans, lists, dictionaries, tuples, sets\n",
        "- How to check the type of a variable\n",
        "- Variable naming best practices\n",
        "- Type conversion between different data types"
      ]
    },
    {
      "cell_type": "markdown",
      "metadata": {},
      "source": [
        "## What are Variables?\n",
        "\n",
        "Variables are like labeled boxes that store information. In Python, you can create a variable by giving it a name and assigning a value to it."
      ]
    },
    {
      "cell_type": "markdown",
      "metadata": {},
      "source": [
        "## Creating Variables\n",
        "\n",
        "Let's create a basic variable and see how Python handles it:"
      ]
    },
    {
      "cell_type": "code",
      "execution_count": null,
      "metadata": {},
      "outputs": [],
      "source": [
        "# Creating a basic variable\n",
        "name = \"Alice\"\n",
        "print(f\"Variable 'name' contains: {name}\")\n",
        "print(f\"Type of 'name': {type(name)}\")"
      ]
    },
    {
      "cell_type": "markdown",
      "metadata": {},
      "source": [
        "## Python's Dynamic Typing\n",
        "\n",
        "Python is **dynamically typed**, which means you don't need to tell Python what type of data you're storing - Python figures it out automatically!"
      ]
    },
    {
      "cell_type": "code",
      "execution_count": null,
      "metadata": {},
      "outputs": [],
      "source": [
        "# Dynamic typing example - same variable, different types\n",
        "my_variable = \"Hello\"  # String\n",
        "print(f\"my_variable = {my_variable}, type = {type(my_variable)}\")\n",
        "\n",
        "my_variable = 42  # Integer\n",
        "print(f\"my_variable = {my_variable}, type = {type(my_variable)}\")\n",
        "\n",
        "my_variable = [1, 2, 3]  # List\n",
        "print(f\"my_variable = {my_variable}, type = {type(my_variable)}\")"
      ]
    },
    {
      "cell_type": "markdown",
      "metadata": {},
      "source": [
        "## 1. Strings - Text Data\n",
        "\n",
        "Strings are used to store text. You can use single quotes `'` or double quotes `\"`."
      ]
    },
    {
      "cell_type": "code",
      "execution_count": null,
      "metadata": {},
      "outputs": [],
      "source": [
        "# String examples\n",
        "name = \"Alice\"\n",
        "message = 'Hello, World!'\n",
        "multiline = \"\"\"This is a\n",
        "multiline string\"\"\"\n",
        "\n",
        "print(f\"Name: {name}, Type: {type(name)}\")\n",
        "print(f\"Message: {message}, Type: {type(message)}\")\n",
        "print(f\"Multiline: {multiline}\")"
      ]
    },
    {
      "cell_type": "markdown",
      "metadata": {},
      "source": [
        "## 2. Numbers - Integers and Floats\n",
        "\n",
        "Python has two main number types: integers (whole numbers) and floats (decimal numbers)."
      ]
    },
    {
      "cell_type": "code",
      "execution_count": null,
      "metadata": {},
      "outputs": [],
      "source": [
        "# Integer examples\n",
        "age = 25\n",
        "count = -10\n",
        "big_number = 1000000\n",
        "\n",
        "print(f\"Age: {age}, Type: {type(age)}\")\n",
        "print(f\"Count: {count}, Type: {type(count)}\")\n",
        "print(f\"Big number: {big_number}, Type: {type(big_number)}\")\n",
        "\n",
        "# Float examples\n",
        "height = 5.9\n",
        "price = 19.99\n",
        "pi = 3.14159\n",
        "\n",
        "print(f\"Height: {height}, Type: {type(height)}\")\n",
        "print(f\"Price: {price}, Type: {type(price)}\")\n",
        "print(f\"Pi: {pi}, Type: {type(pi)}\")"
      ]
    },
    {
      "cell_type": "markdown",
      "metadata": {},
      "source": [
        "## 3. Booleans - True or False\n",
        "\n",
        "Booleans represent logical values: `True` or `False`. They're often the result of comparisons."
      ]
    },
    {
      "cell_type": "code",
      "execution_count": null,
      "metadata": {},
      "outputs": [],
      "source": [
        "# Boolean examples\n",
        "is_student = True\n",
        "is_working = False\n",
        "is_adult = age >= 18  # This will be True or False based on age\n",
        "\n",
        "print(f\"Is student: {is_student}, Type: {type(is_student)}\")\n",
        "print(f\"Is working: {is_working}, Type: {type(is_working)}\")\n",
        "print(f\"Is adult: {is_adult}, Type: {type(is_adult)}\")"
      ]
    },
    {
      "cell_type": "markdown",
      "metadata": {},
      "source": [
        "## 4. Lists - Ordered Collections\n",
        "\n",
        "Lists are ordered collections that can hold multiple items. They're mutable (can be changed)."
      ]
    },
    {
      "cell_type": "code",
      "execution_count": null,
      "metadata": {},
      "outputs": [],
      "source": [
        "# List examples\n",
        "fruits = [\"apple\", \"banana\", \"orange\"]\n",
        "numbers = [1, 2, 3, 4, 5]\n",
        "mixed_list = [\"hello\", 42, True, 3.14]\n",
        "\n",
        "print(f\"Fruits: {fruits}, Type: {type(fruits)}\")\n",
        "print(f\"Numbers: {numbers}, Type: {type(numbers)}\")\n",
        "print(f\"Mixed list: {mixed_list}, Type: {type(mixed_list)}\")\n",
        "\n",
        "# Lists can be modified\n",
        "fruits.append(\"grape\")\n",
        "print(f\"After adding grape: {fruits}\")"
      ]
    },
    {
      "cell_type": "markdown",
      "metadata": {},
      "source": [
        "## 5. Dictionaries - Key-Value Pairs\n",
        "\n",
        "Dictionaries store data as key-value pairs. They're like real-world dictionaries where you look up a word (key) to find its definition (value)."
      ]
    },
    {
      "cell_type": "code",
      "execution_count": null,
      "metadata": {},
      "outputs": [],
      "source": [
        "# Dictionary examples\n",
        "person = {\"name\": \"Bob\", \"age\": 30, \"city\": \"New York\"}\n",
        "scores = {\"math\": 95, \"science\": 87, \"english\": 92}\n",
        "empty_dict = {}\n",
        "\n",
        "print(f\"Person: {person}, Type: {type(person)}\")\n",
        "print(f\"Scores: {scores}, Type: {type(scores)}\")\n",
        "print(f\"Empty dict: {empty_dict}, Type: {type(empty_dict)}\")\n",
        "\n",
        "# Accessing dictionary values\n",
        "print(f\"Person's name: {person['name']}\")\n",
        "print(f\"Math score: {scores['math']}\")"
      ]
    },
    {
      "cell_type": "markdown",
      "metadata": {},
      "source": [
        "## 6. Tuples - Immutable Ordered Collections\n",
        "\n",
        "Tuples are like lists but immutable (cannot be changed after creation). They're often used for coordinates or fixed data."
      ]
    },
    {
      "cell_type": "code",
      "execution_count": null,
      "metadata": {},
      "outputs": [],
      "source": [
        "# Tuple examples\n",
        "coordinates = (10, 20)\n",
        "rgb_color = (255, 128, 0)\n",
        "single_item = (42,)  # Note the comma for single-item tuple\n",
        "\n",
        "print(f\"Coordinates: {coordinates}, Type: {type(coordinates)}\")\n",
        "print(f\"RGB color: {rgb_color}, Type: {type(rgb_color)}\")\n",
        "print(f\"Single item: {single_item}, Type: {type(single_item)}\")\n",
        "\n",
        "# Accessing tuple elements\n",
        "print(f\"X coordinate: {coordinates[0]}\")\n",
        "print(f\"Y coordinate: {coordinates[1]}\")"
      ]
    },
    {
      "cell_type": "markdown",
      "metadata": {},
      "source": [
        "## 7. Sets - Unique Collections\n",
        "\n",
        "Sets are collections of unique items. They automatically remove duplicates and are useful for membership testing."
      ]
    },
    {
      "cell_type": "code",
      "execution_count": null,
      "metadata": {},
      "outputs": [],
      "source": [
        "# Set examples\n",
        "unique_numbers = {1, 2, 3, 4, 5}\n",
        "fruits_set = {\"apple\", \"banana\", \"orange\", \"apple\"}  # Duplicates removed\n",
        "empty_set = set()  # Note: {} creates an empty dict, not set\n",
        "\n",
        "print(f\"Unique numbers: {unique_numbers}, Type: {type(unique_numbers)}\")\n",
        "print(f\"Fruits set: {fruits_set}, Type: {type(fruits_set)}\")\n",
        "print(f\"Empty set: {empty_set}, Type: {type(empty_set)}\")\n",
        "\n",
        "# Set operations\n",
        "print(f\"Is 3 in numbers? {3 in unique_numbers}\")\n",
        "print(f\"Is 10 in numbers? {10 in unique_numbers}\")"
      ]
    },
    {
      "cell_type": "markdown",
      "metadata": {},
      "source": [
        "## Variable Naming Best Practices\n",
        "\n",
        "Python has specific rules and conventions for naming variables:"
      ]
    },
    {
      "cell_type": "code",
      "execution_count": null,
      "metadata": {},
      "outputs": [],
      "source": [
        "# Good variable names (descriptive and clear)\n",
        "user_name = \"Alice\"\n",
        "total_score = 95\n",
        "is_logged_in = True\n",
        "student_grades = [85, 92, 78, 96]\n",
        "\n",
        "# Bad variable names (avoid these!)\n",
        "a = \"Alice\"  # Too short, not descriptive\n",
        "x = 95       # Unclear what this represents\n",
        "flag = True  # Too generic\n",
        "\n",
        "print(\"Good examples:\")\n",
        "print(f\"user_name: {user_name}\")\n",
        "print(f\"total_score: {total_score}\")\n",
        "print(f\"is_logged_in: {is_logged_in}\")\n",
        "print(f\"student_grades: {student_grades}\")\n",
        "\n",
        "# Variable naming rules:\n",
        "# 1. Start with letter or underscore\n",
        "# 2. Can contain letters, numbers, underscores\n",
        "# 3. Case sensitive\n",
        "# 4. Cannot use Python keywords"
      ]
    },
    {
      "cell_type": "markdown",
      "metadata": {},
      "source": [
        "## Type Checking and Conversion\n",
        "\n",
        "You can check the type of a variable and convert between different types."
      ]
    },
    {
      "cell_type": "code",
      "execution_count": null,
      "metadata": {},
      "outputs": [],
      "source": [
        "# Type checking\n",
        "number = 42\n",
        "text = \"Hello\"\n",
        "is_true = True\n",
        "\n",
        "print(f\"number is {type(number)}\")\n",
        "print(f\"text is {type(text)}\")\n",
        "print(f\"is_true is {type(is_true)}\")\n",
        "\n",
        "# Type conversion\n",
        "age_str = \"25\"\n",
        "age_int = int(age_str)  # Convert string to integer\n",
        "age_float = float(age_str)  # Convert string to float\n",
        "\n",
        "print(f\"Original: {age_str} (type: {type(age_str)})\")\n",
        "print(f\"Converted to int: {age_int} (type: {type(age_int)})\")\n",
        "print(f\"Converted to float: {age_float} (type: {type(age_float)})\")\n",
        "\n",
        "# More conversions\n",
        "number = 42\n",
        "number_str = str(number)  # Convert to string\n",
        "number_bool = bool(number)  # Convert to boolean (0 = False, anything else = True)\n",
        "\n",
        "print(f\"Number as string: '{number_str}'\")\n",
        "print(f\"Number as boolean: {number_bool}\")"
      ]
    },
    {
      "cell_type": "markdown",
      "metadata": {},
      "source": [
        "## Summary\n",
        "\n",
        "You've learned about:\n",
        "\n",
        "1. **Variables** - Containers that store data\n",
        "2. **Dynamic Typing** - Python automatically determines data types\n",
        "3. **Data Types** - Strings, numbers, booleans, lists, dictionaries, tuples, sets\n",
        "4. **Naming Conventions** - Use descriptive, clear variable names\n",
        "5. **Type Checking** - Use `type()` to check variable types\n",
        "6. **Type Conversion** - Convert between different data types\n",
        "\n",
        "## Key Takeaways\n",
        "\n",
        "- Variables store data and can change types dynamically\n",
        "- Choose descriptive names that explain what the variable contains\n",
        "- Use `type()` to check what type of data a variable holds\n",
        "- Convert between types when needed using `int()`, `str()`, `float()`, `bool()`\n",
        "- Different data types have different uses and capabilities\n",
        "\n",
        "Ready to practice? Move on to the exercise notebook!"
      ]
    }
  ],
  "metadata": {
    "language_info": {
      "name": "python"
    }
  },
  "nbformat": 4,
  "nbformat_minor": 2
}
