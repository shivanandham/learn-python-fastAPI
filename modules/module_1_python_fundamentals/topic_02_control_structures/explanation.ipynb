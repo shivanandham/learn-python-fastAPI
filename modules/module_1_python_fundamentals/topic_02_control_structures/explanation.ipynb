{
  "cells": [
    {
      "cell_type": "markdown",
      "metadata": {},
      "source": [
        "# Control Structures\n",
        "\n",
        "## Learning Objectives\n",
        "- Understand how to make decisions with if/else statements\n",
        "- Learn to repeat code with loops\n",
        "- Practice using break and continue statements\n",
        "- Master nested control structures\n",
        "- Understand comparison and logical operators\n",
        "\n",
        "## What You'll Learn\n",
        "- Conditional statements (if, elif, else)\n",
        "- For loops and while loops\n",
        "- Loop control (break, continue)\n",
        "- Nested control structures\n",
        "- Comparison operators (==, !=, <, >, <=, >=)\n",
        "- Logical operators (and, or, not)\n"
      ]
    },
    {
      "cell_type": "markdown",
      "metadata": {},
      "source": [
        "## 1. Comparison Operators\n",
        "\n",
        "Before we learn control structures, let's understand how to compare values:\n"
      ]
    },
    {
      "cell_type": "code",
      "execution_count": null,
      "metadata": {},
      "outputs": [],
      "source": [
        "# Comparison operators\n",
        "a = 10\n",
        "b = 5\n",
        "\n",
        "print(f\"a = {a}, b = {b}\")\n",
        "print(f\"a == b: {a == b}\")  # Equal to\n",
        "print(f\"a != b: {a != b}\")  # Not equal to\n",
        "print(f\"a < b: {a < b}\")    # Less than\n",
        "print(f\"a > b: {a > b}\")    # Greater than\n",
        "print(f\"a <= b: {a <= b}\")  # Less than or equal to\n",
        "print(f\"a >= b: {a >= b}\")  # Greater than or equal to\n"
      ]
    },
    {
      "cell_type": "markdown",
      "metadata": {},
      "source": [
        "## 2. Logical Operators\n",
        "\n",
        "Combine multiple conditions using logical operators:\n"
      ]
    },
    {
      "cell_type": "code",
      "execution_count": null,
      "metadata": {},
      "outputs": [],
      "source": [
        "# Logical operators\n",
        "age = 25\n",
        "has_license = True\n",
        "has_car = False\n",
        "\n",
        "print(f\"age = {age}, has_license = {has_license}, has_car = {has_car}\")\n",
        "print(f\"age >= 18 and has_license: {age >= 18 and has_license}\")  # Both must be True\n",
        "print(f\"has_license or has_car: {has_license or has_car}\")        # At least one must be True\n",
        "print(f\"not has_car: {not has_car}\")                              # Opposite of the value\n"
      ]
    },
    {
      "cell_type": "markdown",
      "metadata": {},
      "source": [
        "## 3. If/Else Statements - Making Decisions\n",
        "\n",
        "Use `if`, `elif`, and `else` to make decisions based on conditions:\n"
      ]
    },
    {
      "cell_type": "code",
      "execution_count": null,
      "metadata": {},
      "outputs": [],
      "source": [
        "# Basic if statement\n",
        "score = 85\n",
        "\n",
        "if score >= 90:\n",
        "    grade = \"A\"\n",
        "elif score >= 80:\n",
        "    grade = \"B\"\n",
        "elif score >= 70:\n",
        "    grade = \"C\"\n",
        "elif score >= 60:\n",
        "    grade = \"D\"\n",
        "else:\n",
        "    grade = \"F\"\n",
        "\n",
        "print(f\"Score: {score}, Grade: {grade}\")\n"
      ]
    },
    {
      "cell_type": "markdown",
      "metadata": {},
      "source": [
        "## 4. For Loops - Repeating with Lists and Ranges\n",
        "\n",
        "Use `for` loops to repeat code for each item in a sequence:\n"
      ]
    },
    {
      "cell_type": "code",
      "execution_count": null,
      "metadata": {},
      "outputs": [],
      "source": [
        "# For loop with range\n",
        "print(\"Counting from 1 to 5:\")\n",
        "for i in range(1, 6):\n",
        "    print(f\"Count: {i}\")\n",
        "\n",
        "print(\"\\nIterating through a list:\")\n",
        "fruits = [\"apple\", \"banana\", \"orange\"]\n",
        "for fruit in fruits:\n",
        "    print(f\"I like {fruit}\")\n"
      ]
    },
    {
      "cell_type": "markdown",
      "metadata": {},
      "source": [
        "## 5. While Loops - Repeating While a Condition is True\n",
        "\n",
        "Use `while` loops to repeat code as long as a condition is true:\n"
      ]
    },
    {
      "cell_type": "code",
      "execution_count": null,
      "metadata": {},
      "outputs": [],
      "source": [
        "# While loop example\n",
        "print(\"Countdown from 5:\")\n",
        "count = 5\n",
        "while count > 0:\n",
        "    print(f\"Countdown: {count}\")\n",
        "    count -= 1\n",
        "print(\"Blast off!\")\n"
      ]
    },
    {
      "cell_type": "markdown",
      "metadata": {},
      "source": [
        "## 6. Loop Control - break and continue\n",
        "\n",
        "Control the flow of loops with `break` and `continue`:\n"
      ]
    },
    {
      "cell_type": "code",
      "execution_count": null,
      "metadata": {},
      "outputs": [],
      "source": [
        "# Loop control with break and continue\n",
        "print(\"Loop with break and continue:\")\n",
        "for i in range(1, 11):\n",
        "    if i == 3:\n",
        "        continue  # Skip 3\n",
        "    if i == 8:\n",
        "        break     # Stop at 8\n",
        "    print(f\"Number: {i}\")\n"
      ]
    },
    {
      "cell_type": "markdown",
      "metadata": {},
      "source": [
        "## 7. Nested Control Structures\n",
        "\n",
        "You can put control structures inside other control structures:\n"
      ]
    },
    {
      "cell_type": "code",
      "execution_count": null,
      "metadata": {},
      "outputs": [],
      "source": [
        "# Nested control structures example\n",
        "print(\"Finding even numbers in a range:\")\n",
        "for i in range(1, 11):\n",
        "    if i % 2 == 0:  # If number is even\n",
        "        print(f\"{i} is even\")\n",
        "        if i > 5:   # Nested if statement\n",
        "            print(f\"  And it's greater than 5!\")\n",
        "    else:\n",
        "        print(f\"{i} is odd\")\n"
      ]
    },
    {
      "cell_type": "markdown",
      "metadata": {},
      "source": [
        "## Summary\n",
        "\n",
        "You've learned about:\n",
        "\n",
        "1. **Comparison Operators** - Compare values (==, !=, <, >, <=, >=)\n",
        "2. **Logical Operators** - Combine conditions (and, or, not)\n",
        "3. **If/Else Statements** - Make decisions based on conditions\n",
        "4. **For Loops** - Repeat code for each item in a sequence\n",
        "5. **While Loops** - Repeat code while a condition is true\n",
        "6. **Loop Control** - Use break and continue to control loop flow\n",
        "7. **Nested Structures** - Put control structures inside other control structures\n",
        "\n",
        "## Key Takeaways\n",
        "\n",
        "- Use comparison operators to test conditions\n",
        "- Use logical operators to combine multiple conditions\n",
        "- If/else statements let you make decisions in your code\n",
        "- For loops are great for iterating over sequences\n",
        "- While loops repeat until a condition becomes false\n",
        "- Break exits a loop completely, continue skips to the next iteration\n",
        "- You can nest control structures for complex logic\n",
        "\n",
        "Ready to practice? Move on to the exercise notebook!\n"
      ]
    }
  ],
  "metadata": {
    "language_info": {
      "name": "python"
    }
  },
  "nbformat": 4,
  "nbformat_minor": 2
}
