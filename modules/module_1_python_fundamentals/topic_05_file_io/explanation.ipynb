{
  "cells": [
    {
      "cell_type": "markdown",
      "metadata": {},
      "source": [
        "# File Input/Output (I/O)\n",
        "\n",
        "## Learning Objectives\n",
        "- Understand how to read from and write to files\n",
        "- Learn different file modes and when to use them\n",
        "- Master working with text files and CSV files\n",
        "- Practice error handling for file operations\n",
        "- Understand file paths and directory operations\n",
        "\n",
        "## What You'll Learn\n",
        "- How to open, read, and close files safely\n",
        "- Different file modes: read, write, append\n",
        "- Working with text files and structured data\n",
        "- Using context managers (with statements)\n",
        "- File path handling and directory operations\n",
        "- Error handling for file operations\n"
      ]
    },
    {
      "cell_type": "markdown",
      "metadata": {},
      "source": [
        "## What is File I/O?\n",
        "\n",
        "File Input/Output (I/O) is how programs interact with files on your computer. It allows you to:\n",
        "- Read data from files\n",
        "- Write data to files\n",
        "- Create new files\n",
        "- Modify existing files\n"
      ]
    },
    {
      "cell_type": "markdown",
      "metadata": {},
      "source": [
        "## Basic File Operations\n",
        "\n",
        "The basic pattern for file operations is:\n",
        "1. Open the file\n",
        "2. Perform operations (read/write)\n",
        "3. Close the file\n"
      ]
    },
    {
      "cell_type": "markdown",
      "metadata": {},
      "source": [
        "## 1. Opening Files\n",
        "\n",
        "Files are opened using the `open()` function with different modes:\n"
      ]
    },
    {
      "cell_type": "code",
      "execution_count": null,
      "metadata": {},
      "outputs": [],
      "source": [
        "# File modes explained\n",
        "# 'r' - Read mode (default)\n",
        "# 'w' - Write mode (overwrites existing file)\n",
        "# 'a' - Append mode (adds to end of file)\n",
        "# 'x' - Exclusive creation (fails if file exists)\n",
        "# 'b' - Binary mode (for images, videos, etc.)\n",
        "# 't' - Text mode (default)\n",
        "\n",
        "# Examples:\n",
        "# file = open('filename.txt', 'r')  # Read mode\n",
        "# file = open('filename.txt', 'w')  # Write mode\n",
        "# file = open('filename.txt', 'a')  # Append mode\n"
      ]
    },
    {
      "cell_type": "markdown",
      "metadata": {},
      "source": [
        "## 2. Reading Files\n",
        "\n",
        "There are several ways to read from a file:\n"
      ]
    },
    {
      "cell_type": "code",
      "execution_count": null,
      "metadata": {},
      "outputs": [],
      "source": [
        "# First, let's create a sample file to work with\n",
        "sample_content = \"\"\"Hello, World!\n",
        "This is a sample file.\n",
        "It has multiple lines.\n",
        "Each line contains some text.\"\"\"\n",
        "\n",
        "# Write the sample content to a file\n",
        "with open('sample.txt', 'w') as file:\n",
        "    file.write(sample_content)\n",
        "\n",
        "print(\"Sample file created successfully!\")\n"
      ]
    },
    {
      "cell_type": "code",
      "execution_count": null,
      "metadata": {},
      "outputs": [],
      "source": [
        "# Method 1: Read entire file as string\n",
        "with open('sample.txt', 'r') as file:\n",
        "    content = file.read()\n",
        "    print(\"Entire file content:\")\n",
        "    print(content)\n",
        "    print(f\"Type: {type(content)}\")\n"
      ]
    },
    {
      "cell_type": "code",
      "execution_count": null,
      "metadata": {},
      "outputs": [],
      "source": [
        "# Method 2: Read file line by line\n",
        "with open('sample.txt', 'r') as file:\n",
        "    lines = file.readlines()\n",
        "    print(\"File as list of lines:\")\n",
        "    for i, line in enumerate(lines, 1):\n",
        "        print(f\"Line {i}: {line.rstrip()}\")  # rstrip() removes newline characters\n"
      ]
    },
    {
      "cell_type": "code",
      "execution_count": null,
      "metadata": {},
      "outputs": [],
      "source": [
        "# Method 3: Iterate through file line by line (memory efficient)\n",
        "with open('sample.txt', 'r') as file:\n",
        "    print(\"Reading line by line:\")\n",
        "    for line_number, line in enumerate(file, 1):\n",
        "        print(f\"Line {line_number}: {line.rstrip()}\")\n"
      ]
    },
    {
      "cell_type": "markdown",
      "metadata": {},
      "source": [
        "## 3. Writing Files\n",
        "\n",
        "Writing to files can be done in different ways:\n"
      ]
    },
    {
      "cell_type": "code",
      "execution_count": null,
      "metadata": {},
      "outputs": [],
      "source": [
        "# Write mode - creates new file or overwrites existing\n",
        "with open('output.txt', 'w') as file:\n",
        "    file.write(\"This is line 1\\n\")\n",
        "    file.write(\"This is line 2\\n\")\n",
        "    file.write(\"This is line 3\\n\")\n",
        "\n",
        "print(\"File written successfully!\")\n"
      ]
    },
    {
      "cell_type": "code",
      "execution_count": null,
      "metadata": {},
      "outputs": [],
      "source": [
        "# Append mode - adds to existing file\n",
        "with open('output.txt', 'a') as file:\n",
        "    file.write(\"This is line 4 (appended)\\n\")\n",
        "    file.write(\"This is line 5 (appended)\\n\")\n",
        "\n",
        "print(\"Content appended successfully!\")\n"
      ]
    },
    {
      "cell_type": "markdown",
      "metadata": {},
      "source": [
        "## 4. The `with` Statement (Context Manager)\n",
        "\n",
        "The `with` statement is the recommended way to work with files because it automatically closes the file, even if an error occurs.\n"
      ]
    },
    {
      "cell_type": "code",
      "execution_count": null,
      "metadata": {},
      "outputs": [],
      "source": [
        "# Good way - using 'with' statement\n",
        "with open('sample.txt', 'r') as file:\n",
        "    content = file.read()\n",
        "# File is automatically closed here\n",
        "\n",
        "print(\"File was automatically closed!\")\n",
        "print(f\"Content length: {len(content)} characters\")\n"
      ]
    },
    {
      "cell_type": "markdown",
      "metadata": {},
      "source": [
        "## 5. Working with CSV Files\n",
        "\n",
        "CSV (Comma-Separated Values) files are common for storing tabular data:\n"
      ]
    },
    {
      "cell_type": "code",
      "execution_count": null,
      "metadata": {},
      "outputs": [],
      "source": [
        "# Create a CSV file\n",
        "csv_content = \"\"\"Name,Age,City,Occupation\n",
        "Alice,25,New York,Engineer\n",
        "Bob,30,Los Angeles,Designer\n",
        "Charlie,35,Chicago,Manager\n",
        "Diana,28,Boston,Developer\"\"\"\n",
        "\n",
        "with open('people.csv', 'w') as file:\n",
        "    file.write(csv_content)\n",
        "\n",
        "print(\"CSV file created!\")\n"
      ]
    },
    {
      "cell_type": "code",
      "execution_count": null,
      "metadata": {},
      "outputs": [],
      "source": [
        "# Read and parse CSV file manually\n",
        "with open('people.csv', 'r') as file:\n",
        "    lines = file.readlines()\n",
        "\n",
        "# Parse the CSV data\n",
        "people = []\n",
        "headers = lines[0].strip().split(',')\n",
        "\n",
        "for line in lines[1:]:  # Skip header row\n",
        "    values = line.strip().split(',')\n",
        "    person = dict(zip(headers, values))\n",
        "    people.append(person)\n",
        "\n",
        "print(\"Parsed CSV data:\")\n",
        "for person in people:\n",
        "    print(f\"{person['Name']} is {person['Age']} years old and works as a {person['Occupation']} in {person['City']}\")\n"
      ]
    },
    {
      "cell_type": "markdown",
      "metadata": {},
      "source": [
        "## 6. Error Handling for File Operations\n",
        "\n",
        "Always handle potential errors when working with files:\n"
      ]
    },
    {
      "cell_type": "code",
      "execution_count": null,
      "metadata": {},
      "outputs": [],
      "source": [
        "# Safe file reading with error handling\n",
        "def read_file_safely(filename):\n",
        "    try:\n",
        "        with open(filename, 'r') as file:\n",
        "            content = file.read()\n",
        "            return content\n",
        "    except FileNotFoundError:\n",
        "        print(f\"Error: File '{filename}' not found!\")\n",
        "        return None\n",
        "    except PermissionError:\n",
        "        print(f\"Error: Permission denied to read '{filename}'!\")\n",
        "        return None\n",
        "    except Exception as e:\n",
        "        print(f\"Unexpected error: {e}\")\n",
        "        return None\n",
        "\n",
        "# Test the function\n",
        "content = read_file_safely('sample.txt')\n",
        "if content:\n",
        "    print(\"File read successfully!\")\n",
        "    print(f\"Content preview: {content[:50]}...\")\n",
        "\n",
        "# Test with non-existent file\n",
        "content = read_file_safely('nonexistent.txt')\n"
      ]
    },
    {
      "cell_type": "markdown",
      "metadata": {},
      "source": [
        "## 7. Working with JSON Files\n",
        "\n",
        "JSON (JavaScript Object Notation) is a popular format for storing structured data:\n"
      ]
    },
    {
      "cell_type": "code",
      "execution_count": null,
      "metadata": {},
      "outputs": [],
      "source": [
        "import json\n",
        "\n",
        "# Create some data to store\n",
        "student_data = {\n",
        "    \"name\": \"Alice Johnson\",\n",
        "    \"age\": 22,\n",
        "    \"grades\": [85, 92, 78, 96],\n",
        "    \"is_graduated\": False,\n",
        "    \"contact\": {\n",
        "        \"email\": \"alice@university.edu\",\n",
        "        \"phone\": \"555-0123\"\n",
        "    }\n",
        "}\n",
        "\n",
        "# Write data to JSON file\n",
        "with open('student.json', 'w') as file:\n",
        "    json.dump(student_data, file, indent=2)  # indent=2 makes it readable\n",
        "\n",
        "print(\"JSON file created!\")\n"
      ]
    },
    {
      "cell_type": "code",
      "execution_count": null,
      "metadata": {},
      "outputs": [],
      "source": [
        "# Read data from JSON file\n",
        "with open('student.json', 'r') as file:\n",
        "    loaded_data = json.load(file)\n",
        "\n",
        "print(\"Loaded JSON data:\")\n",
        "print(f\"Name: {loaded_data['name']}\")\n",
        "print(f\"Age: {loaded_data['age']}\")\n",
        "print(f\"Grades: {loaded_data['grades']}\")\n",
        "print(f\"Email: {loaded_data['contact']['email']}\")\n"
      ]
    },
    {
      "cell_type": "markdown",
      "metadata": {},
      "source": [
        "## Summary\n",
        "\n",
        "You've learned about:\n",
        "\n",
        "1. **File Operations** - Opening, reading, writing, and closing files\n",
        "2. **File Modes** - Read ('r'), Write ('w'), Append ('a'), and others\n",
        "3. **Context Managers** - Using `with` statements for safe file handling\n",
        "4. **Reading Methods** - `read()`, `readlines()`, and iteration\n",
        "5. **Writing Methods** - `write()` for creating and modifying files\n",
        "6. **CSV Files** - Working with comma-separated data\n",
        "7. **JSON Files** - Storing and loading structured data\n",
        "8. **Error Handling** - Safe file operations with try/except\n",
        "\n",
        "## Key Takeaways\n",
        "\n",
        "- Always use `with` statements for file operations\n",
        "- Handle errors gracefully with try/except blocks\n",
        "- Choose the right file mode for your needs\n",
        "- Use appropriate data formats (CSV, JSON) for structured data\n",
        "- Be mindful of file paths and directory structure\n",
        "\n",
        "Ready to practice? Move on to the exercise notebook!\n"
      ]
    }
  ],
  "metadata": {
    "language_info": {
      "name": "python"
    }
  },
  "nbformat": 4,
  "nbformat_minor": 2
}
