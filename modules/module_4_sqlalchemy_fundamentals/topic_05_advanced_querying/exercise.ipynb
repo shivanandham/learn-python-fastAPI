{
  "cells": [
    {
      "cell_type": "markdown",
      "metadata": {},
      "source": [
        "# Exercise: Advanced Querying and Performance\n",
        "\n",
        "## Part 1: Guided Implementation\n",
        "\n",
        "In this section, you'll work with advanced SQLAlchemy querying techniques using provided guidance and examples.\n",
        "\n",
        "## Part 2: Complete Advanced Querying Implementation\n",
        "\n",
        "In this section, you'll create and optimize complex queries from scratch.\n",
        "\n",
        "## Instructions\n",
        "1. Complete each exercise in order\n",
        "2. Use your own unique data and scenarios (not the examples)\n",
        "3. Run the validation after each exercise\n",
        "4. Check the solution notebook only if you get stuck!\n"
      ]
    },
    {
      "cell_type": "markdown",
      "metadata": {},
      "source": [
        "## Exercise 1: Setup and Model Creation\n",
        "\n",
        "Set up SQLAlchemy and create your own models for advanced querying practice.\n"
      ]
    },
    {
      "cell_type": "code",
      "execution_count": null,
      "metadata": {},
      "outputs": [],
      "source": [
        "# TODO: Set up SQLAlchemy and create models\n",
        "# 1. Import necessary SQLAlchemy components\n",
        "# 2. Create a database engine with echo=True for SQL logging\n",
        "# 3. Create a declarative base and session factory\n",
        "# 4. Create at least 3 related models (e.g., User, Post, Comment)\n",
        "# 5. Set up relationships between the models\n",
        "# 6. Add indexes for performance optimization\n",
        "# 7. Create tables\n",
        "\n",
        "# Your setup and model code here:\n"
      ]
    },
    {
      "cell_type": "code",
      "execution_count": null,
      "metadata": {},
      "outputs": [],
      "source": [
        "# TODO: Create sample data\n",
        "# 1. Create a session\n",
        "# 2. Create sample data for all your models\n",
        "# 3. Make sure to create relationships between the data\n",
        "# 4. Commit all changes\n",
        "# 5. Print success messages\n",
        "\n",
        "# Your sample data creation code here:\n"
      ]
    },
    {
      "cell_type": "code",
      "execution_count": null,
      "metadata": {},
      "outputs": [],
      "source": [
        "# Validation for Exercise 1\n",
        "def validate_exercise_1():\n",
        "    \"\"\"Check if Exercise 1 setup and models were completed correctly\"\"\"\n",
        "    print(\"🔍 Validating Exercise 1...\")\n",
        "    print(\"=\" * 40)\n",
        "    \n",
        "    try:\n",
        "        # Check if required components exist\n",
        "        required_components = ['engine', 'Base', 'Session', 'session']\n",
        "        missing_components = []\n",
        "        \n",
        "        for component in required_components:\n",
        "            if component not in globals():\n",
        "                missing_components.append(component)\n",
        "        \n",
        "        if missing_components:\n",
        "            print(f\"❌ Missing components: {missing_components}\")\n",
        "            return False\n",
        "        \n",
        "        # Check if models exist\n",
        "        model_classes = [name for name, obj in globals().items() \n",
        "                        if isinstance(obj, type) and hasattr(obj, '__tablename__')]\n",
        "        \n",
        "        if len(model_classes) < 3:\n",
        "            print(\"❌ Need at least 3 model classes for advanced querying\")\n",
        "            return False\n",
        "        \n",
        "        # Check if models have relationships\n",
        "        has_relationships = False\n",
        "        for model_name in model_classes:\n",
        "            model_class = globals()[model_name]\n",
        "            for attr_name in dir(model_class):\n",
        "                attr = getattr(model_class, attr_name)\n",
        "                if hasattr(attr, 'property') and hasattr(attr.property, 'mapper'):\n",
        "                    has_relationships = True\n",
        "                    break\n",
        "        \n",
        "        if not has_relationships:\n",
        "            print(\"❌ No relationships found in models\")\n",
        "            print(\"💡 Make sure you've added relationship() to your models\")\n",
        "            return False\n",
        "        \n",
        "        # Check if data was created\n",
        "        parent_model = globals()[model_classes[0]]\n",
        "        data_count = session.query(parent_model).count()\n",
        "        \n",
        "        if data_count == 0:\n",
        "            print(\"❌ No sample data found\")\n",
        "            print(\"💡 Make sure you've created and committed sample data\")\n",
        "            return False\n",
        "        \n",
        "        print(\"✅ Exercise 1 completed successfully!\")\n",
        "        print(f\"✅ Found model classes: {model_classes}\")\n",
        "        print(f\"✅ Database engine and session created\")\n",
        "        print(f\"✅ Sample data created: {data_count} records\")\n",
        "        return True\n",
        "        \n",
        "    except Exception as e:\n",
        "        print(f\"❌ Error during validation: {e}\")\n",
        "        print(\"💡 Make sure your setup and models are correct\")\n",
        "        return False\n",
        "\n",
        "validate_exercise_1()\n"
      ]
    },
    {
      "cell_type": "markdown",
      "metadata": {},
      "source": [
        "## Exercise 2: Advanced Joins and Complex Queries\n",
        "\n",
        "Practice advanced join techniques and complex query patterns.\n"
      ]
    },
    {
      "cell_type": "code",
      "execution_count": null,
      "metadata": {},
      "outputs": [],
      "source": [
        "# TODO: Advanced joins and complex queries\n",
        "# 1. Create a query that joins all your models together\n",
        "# 2. Use outerjoin to include records that might not have related data\n",
        "# 3. Create a complex query with multiple conditions and grouping\n",
        "# 4. Use aggregation functions (count, avg, sum, etc.)\n",
        "# 5. Print the results of each query\n",
        "\n",
        "# Your advanced joins and complex queries code here:\n"
      ]
    },
    {
      "cell_type": "markdown",
      "metadata": {},
      "source": [
        "## Exercise 3: Subqueries and Advanced Filtering\n",
        "\n",
        "Practice subqueries and complex filtering techniques.\n"
      ]
    },
    {
      "cell_type": "code",
      "execution_count": null,
      "metadata": {},
      "outputs": [],
      "source": [
        "# TODO: Subqueries and advanced filtering\n",
        "# 1. Create a subquery to find records with above-average values\n",
        "# 2. Use EXISTS subquery to find related records\n",
        "# 3. Use IN subquery with a subquery result\n",
        "# 4. Create a correlated subquery\n",
        "# 5. Use complex filtering with multiple conditions\n",
        "# 6. Print the results of each query\n",
        "\n",
        "# Your subqueries and advanced filtering code here:\n"
      ]
    },
    {
      "cell_type": "markdown",
      "metadata": {},
      "source": [
        "## Exercise 4: Eager Loading and Performance Optimization\n",
        "\n",
        "Practice eager loading strategies and performance optimization.\n"
      ]
    },
    {
      "cell_type": "code",
      "execution_count": null,
      "metadata": {},
      "outputs": [],
      "source": [
        "# TODO: Eager loading and performance optimization\n",
        "# 1. Demonstrate the N+1 problem with a bad query\n",
        "# 2. Fix it using joinedload\n",
        "# 3. Try subqueryload and selectinload alternatives\n",
        "# 4. Create a performance comparison function\n",
        "# 5. Implement query result caching\n",
        "# 6. Create a pagination function\n",
        "# 7. Print performance metrics\n",
        "\n",
        "# Your eager loading and performance optimization code here:\n"
      ]
    },
    {
      "cell_type": "code",
      "execution_count": null,
      "metadata": {},
      "outputs": [],
      "source": [
        "# Final Validation for Exercise 4\n",
        "def validate_exercise_4():\n",
        "    \"\"\"Check if Exercise 4 eager loading and performance optimization were completed correctly\"\"\"\n",
        "    print(\"🔍 Validating Exercise 4...\")\n",
        "    print(\"=\" * 40)\n",
        "    \n",
        "    try:\n",
        "        # Check if session exists\n",
        "        if 'session' not in globals():\n",
        "            print(\"❌ Session not found!\")\n",
        "            print(\"💡 Make sure you've created a session\")\n",
        "            return False\n",
        "        \n",
        "        # Get model classes\n",
        "        model_classes = [name for name, obj in globals().items() \n",
        "                        if isinstance(obj, type) and hasattr(obj, '__tablename__')]\n",
        "        \n",
        "        if len(model_classes) < 3:\n",
        "            print(\"❌ Need at least 3 model classes\")\n",
        "            return False\n",
        "        \n",
        "        # Check if data exists for testing\n",
        "        parent_model = globals()[model_classes[0]]\n",
        "        data_count = session.query(parent_model).count()\n",
        "        \n",
        "        if data_count == 0:\n",
        "            print(\"❌ No data found for performance testing\")\n",
        "            return False\n",
        "        \n",
        "        print(\"✅ Exercise 4 completed successfully!\")\n",
        "        print(\"✅ Eager loading strategies implemented\")\n",
        "        print(\"✅ Performance optimization techniques applied\")\n",
        "        print(\"✅ N+1 problem solutions demonstrated\")\n",
        "        print(f\"✅ Performance testing with {data_count} records\")\n",
        "        return True\n",
        "        \n",
        "    except Exception as e:\n",
        "        print(f\"❌ Error during validation: {e}\")\n",
        "        print(\"💡 Make sure your eager loading and performance optimization are correct\")\n",
        "        return False\n",
        "\n",
        "validate_exercise_4()\n"
      ]
    }
  ],
  "metadata": {
    "language_info": {
      "name": "python"
    }
  },
  "nbformat": 4,
  "nbformat_minor": 2
}
