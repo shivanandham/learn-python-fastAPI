{
  "cells": [
    {
      "cell_type": "markdown",
      "metadata": {},
      "source": [
        "# Exercise: Database Migrations with Alembic\n",
        "\n",
        "## Part 1: Guided Implementation\n",
        "\n",
        "In this section, you'll work with Alembic migrations using provided guidance and examples.\n",
        "\n",
        "## Part 2: Complete Migration Implementation\n",
        "\n",
        "In this section, you'll create and manage migrations from scratch.\n",
        "\n",
        "## Instructions\n",
        "1. Complete each exercise in order\n",
        "2. Use your own unique data and scenarios (not the examples)\n",
        "3. Run the validation after each exercise\n",
        "4. Check the solution notebook only if you get stuck!\n"
      ]
    },
    {
      "cell_type": "markdown",
      "metadata": {},
      "source": [
        "## Exercise 1: Setup and Initial Migration\n",
        "\n",
        "Set up Alembic and create your first migration for a simple project.\n"
      ]
    },
    {
      "cell_type": "code",
      "execution_count": null,
      "metadata": {},
      "outputs": [],
      "source": [
        "# TODO: Create project structure\n",
        "# 1. Create a new directory for your migration project\n",
        "# 2. Create subdirectories for models and migrations\n",
        "# 3. Change to the project directory\n",
        "\n",
        "import os\n",
        "from pathlib import Path\n",
        "\n",
        "# Your project setup code here:\n"
      ]
    },
    {
      "cell_type": "code",
      "execution_count": null,
      "metadata": {},
      "outputs": [],
      "source": [
        "# TODO: Create initial models\n",
        "# 1. Create a models.py file with your initial model(s)\n",
        "# 2. Choose a domain (e.g., Library, School, E-commerce, etc.)\n",
        "# 3. Create at least one model with 4+ columns\n",
        "# 4. Include appropriate data types and constraints\n",
        "# 5. Set up the database engine and declarative base\n",
        "\n",
        "# Your models code here:\n"
      ]
    },
    {
      "cell_type": "code",
      "execution_count": null,
      "metadata": {},
      "outputs": [],
      "source": [
        "# TODO: Configure Alembic\n",
        "# 1. Create alembic.ini configuration file\n",
        "# 2. Set the database URL to your database\n",
        "# 3. Create migrations/env.py file\n",
        "# 4. Configure it to import your models\n",
        "# 5. Set target_metadata = Base.metadata\n",
        "\n",
        "# Your Alembic configuration code here:\n"
      ]
    },
    {
      "cell_type": "code",
      "execution_count": null,
      "metadata": {},
      "outputs": [],
      "source": [
        "# TODO: Create initial migration\n",
        "# 1. Create your first migration file manually (simulate alembic revision --autogenerate)\n",
        "# 2. Include upgrade() function to create your table(s)\n",
        "# 3. Include downgrade() function to drop your table(s)\n",
        "# 4. Set revision = '0001' and down_revision = None\n",
        "# 5. Add a descriptive message\n",
        "\n",
        "# Your initial migration code here:\n"
      ]
    },
    {
      "cell_type": "code",
      "execution_count": null,
      "metadata": {},
      "outputs": [],
      "source": [
        "# Validation for Exercise 1\n",
        "def validate_exercise_1():\n",
        "    \"\"\"Check if Exercise 1 setup and initial migration were completed correctly\"\"\"\n",
        "    print(\"🔍 Validating Exercise 1...\")\n",
        "    print(\"=\" * 40)\n",
        "    \n",
        "    try:\n",
        "        # Check if project structure exists\n",
        "        if not os.path.exists(\"models.py\"):\n",
        "            print(\"❌ models.py file not found!\")\n",
        "            print(\"💡 Make sure you've created the models.py file\")\n",
        "            return False\n",
        "        \n",
        "        if not os.path.exists(\"alembic.ini\"):\n",
        "            print(\"❌ alembic.ini file not found!\")\n",
        "            print(\"💡 Make sure you've created the alembic.ini configuration file\")\n",
        "            return False\n",
        "        \n",
        "        if not os.path.exists(\"migrations/env.py\"):\n",
        "            print(\"❌ migrations/env.py file not found!\")\n",
        "            print(\"💡 Make sure you've created the migrations directory and env.py file\")\n",
        "            return False\n",
        "        \n",
        "        # Check if migration file exists\n",
        "        migration_files = [f for f in os.listdir(\"migrations/versions\") if f.endswith(\".py\")]\n",
        "        if not migration_files:\n",
        "            print(\"❌ No migration files found in migrations/versions/\")\n",
        "            print(\"💡 Make sure you've created your initial migration file\")\n",
        "            return False\n",
        "        \n",
        "        print(\"✅ Exercise 1 completed successfully!\")\n",
        "        print(\"✅ Project structure created\")\n",
        "        print(\"✅ Models defined\")\n",
        "        print(\"✅ Alembic configured\")\n",
        "        print(f\"✅ Migration file created: {migration_files[0]}\")\n",
        "        return True\n",
        "        \n",
        "    except Exception as e:\n",
        "        print(f\"❌ Error during validation: {e}\")\n",
        "        print(\"💡 Make sure your project setup is correct\")\n",
        "        return False\n",
        "\n",
        "validate_exercise_1()\n"
      ]
    },
    {
      "cell_type": "markdown",
      "metadata": {},
      "source": [
        "## Exercise 2: Schema Evolution\n",
        "\n",
        "Evolve your schema by adding new features and creating additional migrations.\n"
      ]
    },
    {
      "cell_type": "code",
      "execution_count": null,
      "metadata": {},
      "outputs": [],
      "source": [
        "# TODO: Evolve your models\n",
        "# 1. Add new columns to your existing model (at least 2 new columns)\n",
        "# 2. Create a new related model (e.g., if you have User, create Post)\n",
        "# 3. Set up a relationship between the models\n",
        "# 4. Update your models.py file with these changes\n",
        "# 5. Make sure to include appropriate data types and constraints\n",
        "\n",
        "# Your evolved models code here:\n"
      ]
    },
    {
      "cell_type": "code",
      "execution_count": null,
      "metadata": {},
      "outputs": [],
      "source": [
        "# TODO: Create schema evolution migration\n",
        "# 1. Create a new migration file (revision = '0002', down_revision = '0001')\n",
        "# 2. In upgrade(): Add new columns to existing table\n",
        "# 3. In upgrade(): Create the new table with foreign key\n",
        "# 4. In downgrade(): Drop the new table\n",
        "# 5. In downgrade(): Remove the new columns from existing table\n",
        "# 6. Add a descriptive message about the changes\n",
        "\n",
        "# Your schema evolution migration code here:\n"
      ]
    },
    {
      "cell_type": "code",
      "execution_count": null,
      "metadata": {},
      "outputs": [],
      "source": [
        "# TODO: Apply migrations\n",
        "# 1. Simulate applying the initial migration (create tables)\n",
        "# 2. Simulate applying the schema evolution migration\n",
        "# 3. Print success messages for each step\n",
        "# 4. Show the migration history\n",
        "\n",
        "# Your migration application code here:\n"
      ]
    },
    {
      "cell_type": "code",
      "execution_count": null,
      "metadata": {},
      "outputs": [],
      "source": [
        "# Validation for Exercise 2\n",
        "def validate_exercise_2():\n",
        "    \"\"\"Check if Exercise 2 schema evolution was completed correctly\"\"\"\n",
        "    print(\"🔍 Validating Exercise 2...\")\n",
        "    print(\"=\" * 40)\n",
        "    \n",
        "    try:\n",
        "        # Check if models.py was updated\n",
        "        with open(\"models.py\", \"r\") as f:\n",
        "            models_content = f.read()\n",
        "        \n",
        "        # Check for new columns (should have more than basic id, name, etc.)\n",
        "        if \"Column\" not in models_content or models_content.count(\"Column\") < 4:\n",
        "            print(\"❌ Models don't seem to have enough columns\")\n",
        "            print(\"💡 Make sure you've added new columns to your existing model\")\n",
        "            return False\n",
        "        \n",
        "        # Check for relationships\n",
        "        if \"relationship\" not in models_content:\n",
        "            print(\"❌ No relationships found in models\")\n",
        "            print(\"💡 Make sure you've added relationship() between your models\")\n",
        "            return False\n",
        "        \n",
        "        # Check for multiple models\n",
        "        if \"class \" not in models_content or models_content.count(\"class \") < 2:\n",
        "            print(\"❌ Need at least 2 model classes\")\n",
        "            print(\"💡 Make sure you've created a new related model\")\n",
        "            return False\n",
        "        \n",
        "        # Check if second migration file exists\n",
        "        migration_files = [f for f in os.listdir(\"migrations/versions\") if f.endswith(\".py\")]\n",
        "        if len(migration_files) < 2:\n",
        "            print(\"❌ Need at least 2 migration files\")\n",
        "            print(\"💡 Make sure you've created the schema evolution migration\")\n",
        "            return False\n",
        "        \n",
        "        print(\"✅ Exercise 2 completed successfully!\")\n",
        "        print(\"✅ Models evolved with new columns and relationships\")\n",
        "        print(\"✅ New related model created\")\n",
        "        print(f\"✅ {len(migration_files)} migration files created\")\n",
        "        print(\"✅ Schema evolution migration ready\")\n",
        "        return True\n",
        "        \n",
        "    except Exception as e:\n",
        "        print(f\"❌ Error during validation: {e}\")\n",
        "        print(\"💡 Make sure your schema evolution is correct\")\n",
        "        return False\n",
        "\n",
        "validate_exercise_2()\n"
      ]
    },
    {
      "cell_type": "markdown",
      "metadata": {},
      "source": [
        "## Exercise 3: Data Migration and Rollback\n",
        "\n",
        "Create a data migration and practice rollback operations.\n"
      ]
    },
    {
      "cell_type": "code",
      "execution_count": null,
      "metadata": {},
      "outputs": [],
      "source": [
        "# TODO: Create data migration\n",
        "# 1. Create a data migration file (revision = '0003', down_revision = '0002')\n",
        "# 2. In upgrade(): Use op.get_bind() to get database connection\n",
        "# 3. In upgrade(): Execute SQL to populate new fields with data from existing fields\n",
        "# 4. In upgrade(): Handle different data scenarios (e.g., split names, set defaults)\n",
        "# 5. In downgrade(): Clear the populated data\n",
        "# 6. Add a descriptive message about the data transformation\n",
        "\n",
        "# Your data migration code here:\n"
      ]
    },
    {
      "cell_type": "code",
      "execution_count": null,
      "metadata": {},
      "outputs": [],
      "source": [
        "# TODO: Practice rollback operations\n",
        "# 1. Simulate rolling back to the previous migration (0002)\n",
        "# 2. Simulate rolling back to the initial migration (0001)\n",
        "# 3. Simulate rolling back to base (empty database)\n",
        "# 4. Simulate applying all migrations again\n",
        "# 5. Print status messages for each operation\n",
        "\n",
        "# Your rollback operations code here:\n"
      ]
    },
    {
      "cell_type": "code",
      "execution_count": null,
      "metadata": {},
      "outputs": [],
      "source": [
        "# TODO: Migration management\n",
        "# 1. Create a function to show migration history\n",
        "# 2. Create a function to show current migration status\n",
        "# 3. Create a function to validate migration files\n",
        "# 4. Test these functions with your migrations\n",
        "\n",
        "# Your migration management code here:\n"
      ]
    },
    {
      "cell_type": "code",
      "execution_count": null,
      "metadata": {},
      "outputs": [],
      "source": [
        "# Final Validation for Exercise 3\n",
        "def validate_exercise_3():\n",
        "    \"\"\"Check if Exercise 3 data migration and rollback were completed correctly\"\"\"\n",
        "    print(\"🔍 Validating Exercise 3...\")\n",
        "    print(\"=\" * 40)\n",
        "    \n",
        "    try:\n",
        "        # Check if third migration file exists\n",
        "        migration_files = [f for f in os.listdir(\"migrations/versions\") if f.endswith(\".py\")]\n",
        "        if len(migration_files) < 3:\n",
        "            print(\"❌ Need at least 3 migration files\")\n",
        "            print(\"💡 Make sure you've created the data migration\")\n",
        "            return False\n",
        "        \n",
        "        # Check if data migration contains op.get_bind()\n",
        "        data_migration_file = None\n",
        "        for file in migration_files:\n",
        "            if \"0003\" in file:\n",
        "                data_migration_file = file\n",
        "                break\n",
        "        \n",
        "        if data_migration_file:\n",
        "            with open(f\"migrations/versions/{data_migration_file}\", \"r\") as f:\n",
        "                migration_content = f.read()\n",
        "            \n",
        "            if \"op.get_bind()\" not in migration_content:\n",
        "                print(\"❌ Data migration doesn't use op.get_bind()\")\n",
        "                print(\"💡 Make sure your data migration uses op.get_bind() to get database connection\")\n",
        "                return False\n",
        "            \n",
        "            if \"connection.execute\" not in migration_content:\n",
        "                print(\"❌ Data migration doesn't execute SQL\")\n",
        "                print(\"💡 Make sure your data migration executes SQL to transform data\")\n",
        "                return False\n",
        "        \n",
        "        print(\"✅ Exercise 3 completed successfully!\")\n",
        "        print(\"✅ Data migration created with op.get_bind()\")\n",
        "        print(\"✅ Rollback operations implemented\")\n",
        "        print(\"✅ Migration management functions created\")\n",
        "        print(f\"✅ {len(migration_files)} migration files total\")\n",
        "        return True\n",
        "        \n",
        "    except Exception as e:\n",
        "        print(f\"❌ Error during validation: {e}\")\n",
        "        print(\"💡 Make sure your data migration and rollback operations are correct\")\n",
        "        return False\n",
        "\n",
        "validate_exercise_3()\n"
      ]
    }
  ],
  "metadata": {
    "language_info": {
      "name": "python"
    }
  },
  "nbformat": 4,
  "nbformat_minor": 2
}
