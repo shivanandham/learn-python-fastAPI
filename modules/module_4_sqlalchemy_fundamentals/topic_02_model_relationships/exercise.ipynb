{
  "cells": [
    {
      "cell_type": "markdown",
      "metadata": {},
      "source": [
        "# Exercise: Model Relationships\n",
        "\n",
        "## Part 1: Guided Implementation\n",
        "\n",
        "In this section, you'll work with SQLAlchemy relationships using provided guidance and examples.\n",
        "\n",
        "## Part 2: Complete Relationship Implementation\n",
        "\n",
        "In this section, you'll create models with relationships from scratch.\n",
        "\n",
        "## Instructions\n",
        "1. Complete each exercise in order\n",
        "2. Use your own unique data and scenarios (not the examples)\n",
        "3. Run the validation after each exercise\n",
        "4. Check the solution notebook only if you get stuck!\n"
      ]
    },
    {
      "cell_type": "markdown",
      "metadata": {},
      "source": [
        "## Exercise 1: One-to-Many Relationship\n",
        "\n",
        "Create a one-to-many relationship between two models of your choice.\n"
      ]
    },
    {
      "cell_type": "code",
      "execution_count": null,
      "metadata": {},
      "outputs": [],
      "source": [
        "# TODO: Set up SQLAlchemy with relationship support\n",
        "# 1. Import necessary SQLAlchemy components (including ForeignKey, relationship)\n",
        "# 2. Create a database engine\n",
        "# 3. Create a declarative base\n",
        "# 4. Create a session factory\n",
        "\n",
        "# Your setup code here:\n"
      ]
    },
    {
      "cell_type": "code",
      "execution_count": null,
      "metadata": {},
      "outputs": [],
      "source": [
        "# TODO: Create Parent Model (One side of relationship)\n",
        "# 1. Create a model class (e.g., Author, Company, Category, etc.)\n",
        "# 2. Define the table name\n",
        "# 3. Add at least 3 columns: id (primary key), name, and one other field\n",
        "# 4. Add a relationship to the child model using relationship()\n",
        "# 5. Add a __repr__ method\n",
        "\n",
        "# Your parent model code here:\n"
      ]
    },
    {
      "cell_type": "code",
      "execution_count": null,
      "metadata": {},
      "outputs": [],
      "source": [
        "# TODO: Create Child Model (Many side of relationship)\n",
        "# 1. Create a model class (e.g., Book, Employee, Product, etc.)\n",
        "# 2. Define the table name\n",
        "# 3. Add at least 3 columns: id (primary key), title/name, and one other field\n",
        "# 4. Add a foreign key column to the parent model\n",
        "# 5. Add a relationship back to the parent model using relationship()\n",
        "# 6. Add a __repr__ method\n",
        "\n",
        "# Your child model code here:\n"
      ]
    },
    {
      "cell_type": "code",
      "execution_count": null,
      "metadata": {},
      "outputs": [],
      "source": [
        "# TODO: Create tables and test the relationship\n",
        "# 1. Create all tables using Base.metadata.create_all(engine)\n",
        "# 2. Create a session\n",
        "# 3. Create at least 2 parent objects\n",
        "# 4. Create at least 3 child objects with different parent relationships\n",
        "# 5. Add all objects to session and commit\n",
        "# 6. Test the relationship by accessing parent.children and child.parent\n",
        "\n",
        "# Your relationship testing code here:\n"
      ]
    },
    {
      "cell_type": "code",
      "execution_count": null,
      "metadata": {},
      "outputs": [],
      "source": [
        "# Validation for Exercise 1\n",
        "def validate_exercise_1():\n",
        "    \"\"\"Check if Exercise 1 one-to-many relationship was completed correctly\"\"\"\n",
        "    print(\"🔍 Validating Exercise 1...\")\n",
        "    print(\"=\" * 40)\n",
        "    \n",
        "    try:\n",
        "        # Check if required components exist\n",
        "        required_components = ['engine', 'Base', 'Session', 'session']\n",
        "        missing_components = []\n",
        "        \n",
        "        for component in required_components:\n",
        "            if component not in globals():\n",
        "                missing_components.append(component)\n",
        "        \n",
        "        if missing_components:\n",
        "            print(f\"❌ Missing components: {missing_components}\")\n",
        "            return False\n",
        "        \n",
        "        # Check if models exist and have relationships\n",
        "        model_classes = [name for name, obj in globals().items() \n",
        "                        if isinstance(obj, type) and hasattr(obj, '__tablename__')]\n",
        "        \n",
        "        if len(model_classes) < 2:\n",
        "            print(\"❌ Need at least 2 model classes for one-to-many relationship\")\n",
        "            return False\n",
        "        \n",
        "        # Check if models have relationship attributes\n",
        "        has_relationships = False\n",
        "        for model_name in model_classes:\n",
        "            model_class = globals()[model_name]\n",
        "            for attr_name in dir(model_class):\n",
        "                attr = getattr(model_class, attr_name)\n",
        "                if hasattr(attr, 'property') and hasattr(attr.property, 'mapper'):\n",
        "                    has_relationships = True\n",
        "                    break\n",
        "        \n",
        "        if not has_relationships:\n",
        "            print(\"❌ No relationships found in models\")\n",
        "            print(\"💡 Make sure you've added relationship() to your models\")\n",
        "            return False\n",
        "        \n",
        "        # Try to query the models\n",
        "        parent_model = globals()[model_classes[0]]\n",
        "        child_model = globals()[model_classes[1]]\n",
        "        \n",
        "        parents = session.query(parent_model).all()\n",
        "        children = session.query(child_model).all()\n",
        "        \n",
        "        print(\"✅ One-to-many relationship completed successfully!\")\n",
        "        print(f\"✅ Found {len(parents)} parent objects\")\n",
        "        print(f\"✅ Found {len(children)} child objects\")\n",
        "        print(f\"✅ Models: {model_classes}\")\n",
        "        return True\n",
        "        \n",
        "    except Exception as e:\n",
        "        print(f\"❌ Error during validation: {e}\")\n",
        "        print(\"💡 Make sure your models and relationships are set up correctly\")\n",
        "        return False\n",
        "\n",
        "validate_exercise_1()\n"
      ]
    },
    {
      "cell_type": "markdown",
      "metadata": {},
      "source": [
        "## Exercise 2: Many-to-Many Relationship\n",
        "\n",
        "Create a many-to-many relationship between two models using an association table.\n"
      ]
    },
    {
      "cell_type": "code",
      "execution_count": null,
      "metadata": {},
      "outputs": [],
      "source": [
        "# TODO: Create Association Table\n",
        "# 1. Import Table from sqlalchemy\n",
        "# 2. Create an association table with foreign keys to both models\n",
        "# 3. Add at least one additional column (e.g., created_at, status, etc.)\n",
        "\n",
        "# Your association table code here:\n"
      ]
    },
    {
      "cell_type": "code",
      "execution_count": null,
      "metadata": {},
      "outputs": [],
      "source": [
        "# TODO: Create First Model for Many-to-Many\n",
        "# 1. Create a model class (e.g., Student, Tag, Category, etc.)\n",
        "# 2. Define the table name\n",
        "# 3. Add at least 3 columns: id (primary key), name, and one other field\n",
        "# 4. Add a relationship to the second model using relationship() with secondary parameter\n",
        "# 5. Add a __repr__ method\n",
        "\n",
        "# Your first model code here:\n"
      ]
    },
    {
      "cell_type": "code",
      "execution_count": null,
      "metadata": {},
      "outputs": [],
      "source": [
        "# TODO: Create Second Model for Many-to-Many\n",
        "# 1. Create a model class (e.g., Course, Article, Product, etc.)\n",
        "# 2. Define the table name\n",
        "# 3. Add at least 3 columns: id (primary key), title/name, and one other field\n",
        "# 4. Add a relationship back to the first model using relationship() with secondary parameter\n",
        "# 5. Add a __repr__ method\n",
        "\n",
        "# Your second model code here:\n"
      ]
    },
    {
      "cell_type": "code",
      "execution_count": null,
      "metadata": {},
      "outputs": [],
      "source": [
        "# TODO: Test Many-to-Many Relationship\n",
        "# 1. Create tables using Base.metadata.create_all(engine)\n",
        "# 2. Create at least 3 objects of the first model\n",
        "# 3. Create at least 3 objects of the second model\n",
        "# 4. Create relationships by appending objects to each other's relationship lists\n",
        "# 5. Add all objects to session and commit\n",
        "# 6. Test the relationship by accessing model1.related_objects and model2.related_objects\n",
        "\n",
        "# Your many-to-many testing code here:\n"
      ]
    },
    {
      "cell_type": "code",
      "execution_count": null,
      "metadata": {},
      "outputs": [],
      "source": [
        "# Validation for Exercise 2\n",
        "def validate_exercise_2():\n",
        "    \"\"\"Check if Exercise 2 many-to-many relationship was completed correctly\"\"\"\n",
        "    print(\"🔍 Validating Exercise 2...\")\n",
        "    print(\"=\" * 40)\n",
        "    \n",
        "    try:\n",
        "        # Check if session exists\n",
        "        if 'session' not in globals():\n",
        "            print(\"❌ Session not found!\")\n",
        "            print(\"💡 Make sure you've created a session\")\n",
        "            return False\n",
        "        \n",
        "        # Check if models exist\n",
        "        model_classes = [name for name, obj in globals().items() \n",
        "                        if isinstance(obj, type) and hasattr(obj, '__tablename__')]\n",
        "        \n",
        "        if len(model_classes) < 2:\n",
        "            print(\"❌ Need at least 2 model classes for many-to-many relationship\")\n",
        "            return False\n",
        "        \n",
        "        # Check if association table exists\n",
        "        has_association_table = False\n",
        "        for name, obj in globals().items():\n",
        "            if hasattr(obj, 'columns') and hasattr(obj, 'name'):\n",
        "                has_association_table = True\n",
        "                break\n",
        "        \n",
        "        if not has_association_table:\n",
        "            print(\"❌ No association table found\")\n",
        "            print(\"💡 Make sure you've created a Table for the many-to-many relationship\")\n",
        "            return False\n",
        "        \n",
        "        # Try to query the models\n",
        "        model1 = globals()[model_classes[0]]\n",
        "        model2 = globals()[model_classes[1]]\n",
        "        \n",
        "        objects1 = session.query(model1).all()\n",
        "        objects2 = session.query(model2).all()\n",
        "        \n",
        "        print(\"✅ Many-to-many relationship completed successfully!\")\n",
        "        print(f\"✅ Found {len(objects1)} objects of first model\")\n",
        "        print(f\"✅ Found {len(objects2)} objects of second model\")\n",
        "        print(f\"✅ Models: {model_classes}\")\n",
        "        return True\n",
        "        \n",
        "    except Exception as e:\n",
        "        print(f\"❌ Error during validation: {e}\")\n",
        "        print(\"💡 Make sure your many-to-many relationship is set up correctly\")\n",
        "        return False\n",
        "\n",
        "validate_exercise_2()\n"
      ]
    }
  ],
  "metadata": {
    "language_info": {
      "name": "python"
    }
  },
  "nbformat": 4,
  "nbformat_minor": 2
}
