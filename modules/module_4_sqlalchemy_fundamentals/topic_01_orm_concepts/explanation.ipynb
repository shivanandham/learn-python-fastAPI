{
  "cells": [
    {
      "cell_type": "markdown",
      "metadata": {},
      "source": [
        "# ORM Concepts\n",
        "\n",
        "## Learning Objectives\n",
        "- Understand Object-Relational Mapping (ORM) concepts\n",
        "- Learn how SQLAlchemy works as an ORM\n",
        "- Master the difference between Core and ORM approaches\n",
        "- Understand database engines and connections\n",
        "- Learn about declarative base and model creation\n",
        "\n",
        "## What You'll Learn\n",
        "- What ORMs are and why we use them\n",
        "- SQLAlchemy architecture and components\n",
        "- Database engines and connection strings\n",
        "- Declarative base and model definitions\n",
        "- The difference between SQLAlchemy Core and ORM\n",
        "- Basic setup and configuration\n"
      ]
    },
    {
      "cell_type": "markdown",
      "metadata": {},
      "source": [
        "## What is an ORM?\n",
        "\n",
        "Object-Relational Mapping (ORM) is a programming technique that allows you to work with databases using object-oriented programming concepts. Instead of writing raw SQL queries, you work with Python objects that represent database tables and rows.\n"
      ]
    },
    {
      "cell_type": "markdown",
      "metadata": {},
      "source": [
        "## Why Use an ORM?\n",
        "\n",
        "### Benefits:\n",
        "- **Productivity**: Write less boilerplate code\n",
        "- **Type Safety**: Catch errors at development time\n",
        "- **Database Agnostic**: Switch databases without changing code\n",
        "- **Security**: Built-in protection against SQL injection\n",
        "- **Maintainability**: Easier to read and maintain code\n",
        "\n",
        "### Example Comparison:\n",
        "\n",
        "**Raw SQL:**\n",
        "```sql\n",
        "SELECT * FROM users WHERE age > 18 AND city = 'New York';\n",
        "```\n",
        "\n",
        "**ORM (SQLAlchemy):**\n",
        "```python\n",
        "session.query(User).filter(User.age > 18, User.city == 'New York').all()\n",
        "```\n"
      ]
    },
    {
      "cell_type": "markdown",
      "metadata": {},
      "source": [
        "## SQLAlchemy Architecture\n",
        "\n",
        "SQLAlchemy has two main components:\n",
        "\n",
        "### 1. SQLAlchemy Core\n",
        "- **Low-level**: Direct SQL expression language\n",
        "- **Database agnostic**: Works with any SQL database\n",
        "- **Performance**: More control over generated SQL\n",
        "\n",
        "### 2. SQLAlchemy ORM\n",
        "- **High-level**: Object-oriented interface\n",
        "- **Pythonic**: Works with Python classes and objects\n",
        "- **Productivity**: Faster development with less code\n",
        "\n",
        "### Key Components:\n",
        "- **Engine**: Manages database connections\n",
        "- **Session**: Manages object state and transactions\n",
        "- **Models**: Python classes representing database tables\n",
        "- **Query**: Object-oriented query interface\n"
      ]
    },
    {
      "cell_type": "markdown",
      "metadata": {},
      "source": [
        "## 1. Setting Up SQLAlchemy\n",
        "\n",
        "Let's start with the basic setup:\n"
      ]
    },
    {
      "cell_type": "code",
      "execution_count": null,
      "metadata": {},
      "outputs": [],
      "source": [
        "# Install SQLAlchemy (if not already installed)\n",
        "# pip install sqlalchemy\n",
        "\n",
        "# Basic imports\n",
        "from sqlalchemy import create_engine, Column, Integer, String, DateTime\n",
        "from sqlalchemy.ext.declarative import declarative_base\n",
        "from sqlalchemy.orm import sessionmaker\n",
        "from datetime import datetime\n",
        "\n",
        "# Create the base class for our models\n",
        "Base = declarative_base()\n",
        "\n",
        "print(\"SQLAlchemy setup complete!\")\n"
      ]
    },
    {
      "cell_type": "markdown",
      "metadata": {},
      "source": [
        "## 2. Database Engine and Connection\n",
        "\n",
        "The engine is the starting point for any SQLAlchemy application:\n"
      ]
    },
    {
      "cell_type": "code",
      "execution_count": null,
      "metadata": {},
      "outputs": [],
      "source": [
        "# Create a database engine\n",
        "# For this example, we'll use SQLite (file-based database)\n",
        "engine = create_engine('sqlite:///example.db', echo=True)\n",
        "\n",
        "# echo=True shows the SQL queries being executed\n",
        "# This is helpful for learning and debugging\n",
        "\n",
        "# Create a session factory\n",
        "Session = sessionmaker(bind=engine)\n",
        "\n",
        "# Create a session\n",
        "session = Session()\n",
        "\n",
        "print(\"Database engine and session created!\")\n",
        "print(f\"Engine: {engine}\")\n",
        "print(f\"Session: {session}\")\n"
      ]
    },
    {
      "cell_type": "markdown",
      "metadata": {},
      "source": [
        "## 3. Creating Your First Model\n",
        "\n",
        "Models are Python classes that represent database tables:\n"
      ]
    },
    {
      "cell_type": "code",
      "execution_count": null,
      "metadata": {},
      "outputs": [],
      "source": [
        "# Define a User model\n",
        "class User(Base):\n",
        "    __tablename__ = 'users'\n",
        "    \n",
        "    # Primary key\n",
        "    id = Column(Integer, primary_key=True)\n",
        "    \n",
        "    # User attributes\n",
        "    username = Column(String(50), unique=True, nullable=False)\n",
        "    email = Column(String(100), unique=True, nullable=False)\n",
        "    created_at = Column(DateTime, default=datetime.utcnow)\n",
        "    \n",
        "    def __repr__(self):\n",
        "        return f\"<User(username='{self.username}', email='{self.email}')>\"\n",
        "\n",
        "print(\"User model defined!\")\n",
        "print(f\"Table name: {User.__tablename__}\")\n",
        "print(f\"Columns: {User.__table__.columns.keys()}\")\n"
      ]
    },
    {
      "cell_type": "markdown",
      "metadata": {},
      "source": [
        "## 4. Creating Tables\n",
        "\n",
        "Now let's create the actual database tables:\n"
      ]
    },
    {
      "cell_type": "code",
      "execution_count": null,
      "metadata": {},
      "outputs": [],
      "source": [
        "# Create all tables defined in our models\n",
        "Base.metadata.create_all(engine)\n",
        "\n",
        "print(\"Tables created successfully!\")\n",
        "print(\"Check your directory - you should see 'example.db' file\")\n"
      ]
    },
    {
      "cell_type": "markdown",
      "metadata": {},
      "source": [
        "## 5. Basic CRUD Operations\n",
        "\n",
        "Let's perform Create, Read, Update, Delete operations:\n"
      ]
    },
    {
      "cell_type": "code",
      "execution_count": null,
      "metadata": {},
      "outputs": [],
      "source": [
        "# CREATE - Add new users\n",
        "user1 = User(username='alice', email='alice@example.com')\n",
        "user2 = User(username='bob', email='bob@example.com')\n",
        "\n",
        "# Add to session\n",
        "session.add(user1)\n",
        "session.add(user2)\n",
        "\n",
        "# Commit the transaction\n",
        "session.commit()\n",
        "\n",
        "print(\"Users created successfully!\")\n",
        "print(f\"User 1: {user1}\")\n",
        "print(f\"User 2: {user2}\")\n"
      ]
    },
    {
      "cell_type": "code",
      "execution_count": null,
      "metadata": {},
      "outputs": [],
      "source": [
        "# READ - Query users\n",
        "# Get all users\n",
        "all_users = session.query(User).all()\n",
        "print(\"All users:\")\n",
        "for user in all_users:\n",
        "    print(f\"  {user}\")\n",
        "\n",
        "# Get user by ID\n",
        "user_by_id = session.query(User).filter(User.id == 1).first()\n",
        "print(f\"\\nUser with ID 1: {user_by_id}\")\n",
        "\n",
        "# Get user by username\n",
        "user_by_username = session.query(User).filter(User.username == 'alice').first()\n",
        "print(f\"User with username 'alice': {user_by_username}\")\n"
      ]
    },
    {
      "cell_type": "code",
      "execution_count": null,
      "metadata": {},
      "outputs": [],
      "source": [
        "# UPDATE - Modify existing user\n",
        "user_to_update = session.query(User).filter(User.username == 'alice').first()\n",
        "if user_to_update:\n",
        "    user_to_update.email = 'alice.newemail@example.com'\n",
        "    session.commit()\n",
        "    print(f\"Updated user: {user_to_update}\")\n",
        "else:\n",
        "    print(\"User not found\")\n"
      ]
    },
    {
      "cell_type": "code",
      "execution_count": null,
      "metadata": {},
      "outputs": [],
      "source": [
        "# DELETE - Remove a user\n",
        "user_to_delete = session.query(User).filter(User.username == 'bob').first()\n",
        "if user_to_delete:\n",
        "    session.delete(user_to_delete)\n",
        "    session.commit()\n",
        "    print(\"User 'bob' deleted successfully\")\n",
        "else:\n",
        "    print(\"User not found\")\n",
        "\n",
        "# Verify deletion\n",
        "remaining_users = session.query(User).all()\n",
        "print(f\"\\nRemaining users: {len(remaining_users)}\")\n",
        "for user in remaining_users:\n",
        "    print(f\"  {user}\")\n"
      ]
    },
    {
      "cell_type": "markdown",
      "metadata": {},
      "source": [
        "## 6. Session Management\n",
        "\n",
        "Proper session management is crucial for database operations:\n"
      ]
    },
    {
      "cell_type": "code",
      "execution_count": null,
      "metadata": {},
      "outputs": [],
      "source": [
        "# Always close the session when done\n",
        "session.close()\n",
        "\n",
        "# Using context manager for automatic session management\n",
        "def create_user_with_context(username, email):\n",
        "    \"\"\"Create a user using context manager for session\"\"\"\n",
        "    with Session() as session:\n",
        "        user = User(username=username, email=email)\n",
        "        session.add(user)\n",
        "        session.commit()\n",
        "        return user\n",
        "\n",
        "# Test the context manager approach\n",
        "new_user = create_user_with_context('charlie', 'charlie@example.com')\n",
        "print(f\"Created user with context manager: {new_user}\")\n",
        "\n",
        "# Verify the user was created\n",
        "with Session() as session:\n",
        "    all_users = session.query(User).all()\n",
        "    print(f\"\\nTotal users in database: {len(all_users)}\")\n",
        "    for user in all_users:\n",
        "        print(f\"  {user}\")\n"
      ]
    },
    {
      "cell_type": "markdown",
      "metadata": {},
      "source": [
        "## 7. Common Column Types\n",
        "\n",
        "SQLAlchemy provides many column types for different data:\n"
      ]
    },
    {
      "cell_type": "code",
      "execution_count": null,
      "metadata": {},
      "outputs": [],
      "source": [
        "from sqlalchemy import Boolean, Float, Text, Date, Time\n",
        "\n",
        "# Example model with various column types\n",
        "class Product(Base):\n",
        "    __tablename__ = 'products'\n",
        "    \n",
        "    id = Column(Integer, primary_key=True)\n",
        "    name = Column(String(100), nullable=False)\n",
        "    description = Column(Text)  # For long text\n",
        "    price = Column(Float, nullable=False)\n",
        "    is_active = Column(Boolean, default=True)\n",
        "    created_date = Column(Date, default=datetime.utcnow().date())\n",
        "    created_time = Column(Time, default=datetime.utcnow().time())\n",
        "    \n",
        "    def __repr__(self):\n",
        "        return f\"<Product(name='{self.name}', price={self.price})>\"\n",
        "\n",
        "print(\"Product model with various column types defined!\")\n",
        "print(\"Column types used:\")\n",
        "print(\"- Integer: for IDs and numbers\")\n",
        "print(\"- String: for short text with length limit\")\n",
        "print(\"- Text: for long text without length limit\")\n",
        "print(\"- Float: for decimal numbers\")\n",
        "print(\"- Boolean: for true/false values\")\n",
        "print(\"- Date: for dates only\")\n",
        "print(\"- Time: for time only\")\n",
        "print(\"- DateTime: for date and time together\")\n"
      ]
    },
    {
      "cell_type": "markdown",
      "metadata": {},
      "source": [
        "## Summary\n",
        "\n",
        "You've learned about:\n",
        "\n",
        "1. **ORM Concepts** - Object-Relational Mapping fundamentals\n",
        "2. **SQLAlchemy Setup** - Installing and configuring SQLAlchemy\n",
        "3. **Database Engine** - Creating connections to databases\n",
        "4. **Models** - Defining Python classes for database tables\n",
        "5. **CRUD Operations** - Create, Read, Update, Delete operations\n",
        "6. **Session Management** - Proper handling of database sessions\n",
        "7. **Column Types** - Different data types for various use cases\n",
        "\n",
        "## Key Takeaways\n",
        "\n",
        "- ORMs make database operations more Pythonic and secure\n",
        "- SQLAlchemy provides both Core and ORM approaches\n",
        "- Always use proper session management\n",
        "- Models represent database tables as Python classes\n",
        "- CRUD operations are the foundation of database interactions\n",
        "- Choose appropriate column types for your data\n",
        "\n",
        "Ready to practice? Move on to the exercise notebook!\n"
      ]
    }
  ],
  "metadata": {
    "language_info": {
      "name": "python"
    }
  },
  "nbformat": 4,
  "nbformat_minor": 2
}
