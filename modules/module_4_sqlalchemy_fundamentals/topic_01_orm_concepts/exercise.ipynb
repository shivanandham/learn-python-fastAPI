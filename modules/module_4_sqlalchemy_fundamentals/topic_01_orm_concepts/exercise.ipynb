{
  "cells": [
    {
      "cell_type": "markdown",
      "metadata": {},
      "source": [
        "# Exercise: ORM Concepts\n",
        "\n",
        "## Part 1: Guided Implementation\n",
        "\n",
        "In this section, you'll work with SQLAlchemy ORM using provided guidance and examples.\n",
        "\n",
        "## Part 2: Complete ORM Implementation\n",
        "\n",
        "In this section, you'll create models and database operations from scratch.\n",
        "\n",
        "## Instructions\n",
        "1. Complete each exercise in order\n",
        "2. Use your own unique data and scenarios (not the examples)\n",
        "3. Run the validation after each exercise\n",
        "4. Check the solution notebook only if you get stuck!\n"
      ]
    },
    {
      "cell_type": "markdown",
      "metadata": {},
      "source": [
        "## Exercise 1: Basic SQLAlchemy Setup\n",
        "\n",
        "Set up SQLAlchemy with a database engine and create your first model.\n"
      ]
    },
    {
      "cell_type": "code",
      "execution_count": null,
      "metadata": {},
      "outputs": [],
      "source": [
        "# TODO: Set up SQLAlchemy\n",
        "# 1. Import necessary SQLAlchemy components\n",
        "# 2. Create a database engine (use SQLite for simplicity)\n",
        "# 3. Create a declarative base\n",
        "# 4. Create a session factory\n",
        "\n",
        "# Your code here:\n"
      ]
    },
    {
      "cell_type": "code",
      "execution_count": null,
      "metadata": {},
      "outputs": [],
      "source": [
        "# TODO: Create your first model\n",
        "# 1. Create a model class (choose your own: Student, Book, Car, etc.)\n",
        "# 2. Define the table name\n",
        "# 3. Add at least 3 columns: id (primary key), name, and one other field\n",
        "# 4. Add a __repr__ method for nice string representation\n",
        "\n",
        "# Your model code here:\n"
      ]
    },
    {
      "cell_type": "code",
      "execution_count": null,
      "metadata": {},
      "outputs": [],
      "source": [
        "# TODO: Create the database table\n",
        "# 1. Use Base.metadata.create_all(engine) to create your table\n",
        "# 2. Print a success message\n",
        "\n",
        "# Your code here:\n"
      ]
    },
    {
      "cell_type": "code",
      "execution_count": null,
      "metadata": {},
      "outputs": [],
      "source": [
        "# Validation for Exercise 1\n",
        "def validate_exercise_1():\n",
        "    \"\"\"Check if Exercise 1 SQLAlchemy setup was completed correctly\"\"\"\n",
        "    print(\"🔍 Validating Exercise 1...\")\n",
        "    print(\"=\" * 40)\n",
        "    \n",
        "    # Check if required components exist\n",
        "    required_components = ['engine', 'Base', 'Session']\n",
        "    missing_components = []\n",
        "    \n",
        "    for component in required_components:\n",
        "        if component not in globals():\n",
        "            missing_components.append(component)\n",
        "    \n",
        "    if missing_components:\n",
        "        print(f\"❌ Missing components: {missing_components}\")\n",
        "        print(\"💡 Make sure you've created the engine, Base, and Session\")\n",
        "        return False\n",
        "    \n",
        "    # Check if a model class exists\n",
        "    model_classes = [name for name, obj in globals().items() \n",
        "                    if isinstance(obj, type) and hasattr(obj, '__tablename__')]\n",
        "    \n",
        "    if not model_classes:\n",
        "        print(\"❌ No model classes found!\")\n",
        "        print(\"💡 Make sure you've created a model class with __tablename__\")\n",
        "        return False\n",
        "    \n",
        "    print(\"✅ SQLAlchemy setup completed successfully!\")\n",
        "    print(f\"✅ Found model classes: {model_classes}\")\n",
        "    print(\"✅ Database engine and session factory created\")\n",
        "    return True\n",
        "\n",
        "validate_exercise_1()\n"
      ]
    },
    {
      "cell_type": "markdown",
      "metadata": {},
      "source": [
        "## Exercise 2: CRUD Operations\n",
        "\n",
        "Perform Create, Read, Update, Delete operations with your model.\n"
      ]
    },
    {
      "cell_type": "code",
      "execution_count": null,
      "metadata": {},
      "outputs": [],
      "source": [
        "# TODO: CREATE - Add new records\n",
        "# 1. Create a session\n",
        "# 2. Create at least 2 instances of your model with different data\n",
        "# 3. Add them to the session\n",
        "# 4. Commit the transaction\n",
        "# 5. Print success message\n",
        "\n",
        "# Your CREATE code here:\n"
      ]
    },
    {
      "cell_type": "code",
      "execution_count": null,
      "metadata": {},
      "outputs": [],
      "source": [
        "# TODO: READ - Query records\n",
        "# 1. Query all records and print them\n",
        "# 2. Query a specific record by ID\n",
        "# 3. Query records using a filter condition\n",
        "# 4. Print the results\n",
        "\n",
        "# Your READ code here:\n"
      ]
    },
    {
      "cell_type": "code",
      "execution_count": null,
      "metadata": {},
      "outputs": [],
      "source": [
        "# TODO: UPDATE - Modify existing records\n",
        "# 1. Find a record to update\n",
        "# 2. Modify one of its attributes\n",
        "# 3. Commit the changes\n",
        "# 4. Print the updated record\n",
        "\n",
        "# Your UPDATE code here:\n"
      ]
    },
    {
      "cell_type": "code",
      "execution_count": null,
      "metadata": {},
      "outputs": [],
      "source": [
        "# TODO: DELETE - Remove records\n",
        "# 1. Find a record to delete\n",
        "# 2. Delete it from the session\n",
        "# 3. Commit the changes\n",
        "# 4. Verify the deletion by querying all records\n",
        "\n",
        "# Your DELETE code here:\n"
      ]
    },
    {
      "cell_type": "code",
      "execution_count": null,
      "metadata": {},
      "outputs": [],
      "source": [
        "# TODO: Session Management\n",
        "# 1. Close the current session properly\n",
        "# 2. Create a function that uses context manager for session handling\n",
        "# 3. Test the function by creating a new record\n",
        "# 4. Verify the record was created\n",
        "\n",
        "# Your session management code here:\n"
      ]
    },
    {
      "cell_type": "code",
      "execution_count": null,
      "metadata": {},
      "outputs": [],
      "source": [
        "# Validation for Exercise 2\n",
        "def validate_exercise_2():\n",
        "    \"\"\"Check if Exercise 2 CRUD operations were completed correctly\"\"\"\n",
        "    print(\"🔍 Validating Exercise 2...\")\n",
        "    print(\"=\" * 40)\n",
        "    \n",
        "    try:\n",
        "        # Check if session exists and can perform queries\n",
        "        if 'session' in globals():\n",
        "            # Try to query all records\n",
        "            model_classes = [name for name, obj in globals().items() \n",
        "                           if isinstance(obj, type) and hasattr(obj, '__tablename__')]\n",
        "            \n",
        "            if model_classes:\n",
        "                model_class = globals()[model_classes[0]]\n",
        "                records = session.query(model_class).all()\n",
        "                print(f\"✅ CRUD operations completed successfully!\")\n",
        "                print(f\"✅ Found {len(records)} records in database\")\n",
        "                print(f\"✅ Model class: {model_class.__name__}\")\n",
        "                return True\n",
        "            else:\n",
        "                print(\"❌ No model classes found for validation\")\n",
        "                return False\n",
        "        else:\n",
        "            print(\"❌ Session not found!\")\n",
        "            print(\"💡 Make sure you've created and used a session\")\n",
        "            return False\n",
        "            \n",
        "    except Exception as e:\n",
        "        print(f\"❌ Error during validation: {e}\")\n",
        "        print(\"💡 Make sure your CRUD operations are working correctly\")\n",
        "        return False\n",
        "\n",
        "validate_exercise_2()\n"
      ]
    }
  ],
  "metadata": {
    "language_info": {
      "name": "python"
    }
  },
  "nbformat": 4,
  "nbformat_minor": 2
}
