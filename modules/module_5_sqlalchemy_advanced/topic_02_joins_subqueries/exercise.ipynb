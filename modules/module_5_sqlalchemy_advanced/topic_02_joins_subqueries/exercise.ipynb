{
  "cells": [
    {
      "cell_type": "markdown",
      "metadata": {},
      "source": [
        "# Exercise: Advanced Joins and Subqueries with SQLAlchemy\n",
        "\n",
        "## Instructions\n",
        "\n",
        "1. Complete each exercise in order\n",
        "2. Use the library management system models provided in the explanation notebook\n",
        "3. Run the validation after each exercise\n",
        "4. Check the solution notebook only if you get stuck!\n",
        "\n",
        "## Learning Goals\n",
        "\n",
        "- Master different join types (INNER, LEFT, RIGHT, OUTER, CROSS)\n",
        "- Write complex subqueries (EXISTS, IN, correlated subqueries)\n",
        "- Optimize join performance and understand indexing\n",
        "- Handle complex data relationships with advanced join patterns\n"
      ]
    },
    {
      "cell_type": "markdown",
      "metadata": {},
      "source": [
        "## Exercise 1: Setup and Sample Data\n",
        "\n",
        "Set up the library management system and create comprehensive sample data for join and subquery practice.\n"
      ]
    },
    {
      "cell_type": "code",
      "execution_count": null,
      "metadata": {},
      "outputs": [],
      "source": [
        "# TODO: Set up the library management system\n",
        "# 1. Copy the model definitions from the explanation notebook\n",
        "# 2. Create database engine, base, and session\n",
        "# 3. Create all tables\n",
        "# 4. Create comprehensive sample data for all models\n",
        "# 5. Include various scenarios: multiple libraries, authors, categories, books, members, transactions, reviews\n",
        "# 6. Create at least 30+ records across all models with realistic relationships\n",
        "# 7. Commit all changes and print success messages\n",
        "\n",
        "# Your setup and sample data code here:\n"
      ]
    },
    {
      "cell_type": "markdown",
      "metadata": {},
      "source": [
        "## Exercise 2: Different Join Types\n",
        "\n",
        "Practice different types of joins to understand their behavior and use cases.\n"
      ]
    },
    {
      "cell_type": "code",
      "execution_count": null,
      "metadata": {},
      "outputs": [],
      "source": [
        "# TODO: Practice different join types\n",
        "# 1. INNER JOIN: Find books with their authors and categories\n",
        "# 2. LEFT JOIN: Find all books and their publishers (including books without publishers)\n",
        "# 3. RIGHT JOIN: Find all publishers and their books (including publishers without books)\n",
        "# 4. OUTER JOIN: Find all books and all categories (including unmatched records)\n",
        "# 5. CROSS JOIN: Create a cartesian product between libraries and categories\n",
        "# 6. Compare the results and explain the differences\n",
        "# 7. Print results with clear explanations for each join type\n",
        "\n",
        "# Your join types code here:\n"
      ]
    },
    {
      "cell_type": "markdown",
      "metadata": {},
      "source": [
        "## Exercise 3: Complex Subqueries\n",
        "\n",
        "Practice different types of subqueries for complex data filtering and analysis.\n"
      ]
    },
    {
      "cell_type": "code",
      "execution_count": null,
      "metadata": {},
      "outputs": [],
      "source": [
        "# TODO: Practice complex subqueries\n",
        "# 1. EXISTS subquery: Find members who have borrowed books\n",
        "# 2. IN subquery: Find books that are in specific categories\n",
        "# 3. Correlated subquery: Find books with above-average ratings\n",
        "# 4. Scalar subquery: Find books with their average rating\n",
        "# 5. Multiple subqueries: Find members who have borrowed more books than average\n",
        "# 6. Nested subqueries: Find the most popular book in each category\n",
        "# 7. Print results with clear explanations for each subquery type\n",
        "\n",
        "# Your complex subqueries code here:\n"
      ]
    },
    {
      "cell_type": "markdown",
      "metadata": {},
      "source": [
        "## Exercise 4: Advanced Join Patterns\n",
        "\n",
        "Practice advanced join patterns including self-referential joins and complex multi-table joins.\n"
      ]
    },
    {
      "cell_type": "code",
      "execution_count": null,
      "metadata": {},
      "outputs": [],
      "source": [
        "# TODO: Practice advanced join patterns\n",
        "# 1. Self-referential join: Find category hierarchies (parent-child relationships)\n",
        "# 2. Multi-table join: Find complete transaction details (member, book, library, author)\n",
        "# 3. Complex filtering with joins: Find active members who borrowed books from specific libraries\n",
        "# 4. Join with aggregations: Find library statistics with member and book counts\n",
        "# 5. Join with window functions: Find top-rated books in each category\n",
        "# 6. Join optimization: Compare different join strategies for the same query\n",
        "# 7. Print results with performance notes and explanations\n",
        "\n",
        "# Your advanced join patterns code here:\n"
      ]
    },
    {
      "cell_type": "code",
      "execution_count": null,
      "metadata": {},
      "outputs": [],
      "source": [
        "# Final Validation\n",
        "def validate_exercise():\n",
        "    \"\"\"Check if all exercises were completed correctly\"\"\"\n",
        "    print(\"🔍 Validating Advanced Joins and Subqueries Exercise...\")\n",
        "    print(\"=\" * 50)\n",
        "    \n",
        "    try:\n",
        "        # Check if session exists\n",
        "        if 'session' not in globals():\n",
        "            print(\"❌ Session not found!\")\n",
        "            return False\n",
        "        \n",
        "        # Check if models exist\n",
        "        model_classes = [name for name, obj in globals().items() \n",
        "                        if isinstance(obj, type) and hasattr(obj, '__tablename__')]\n",
        "        \n",
        "        if len(model_classes) < 8:\n",
        "            print(\"❌ Need at least 8 model classes for library system\")\n",
        "            return False\n",
        "        \n",
        "        # Check if data exists\n",
        "        parent_model = globals()[model_classes[0]]\n",
        "        data_count = session.query(parent_model).count()\n",
        "        \n",
        "        if data_count < 5:\n",
        "            print(\"❌ Insufficient sample data found\")\n",
        "            return False\n",
        "        \n",
        "        print(\"✅ Exercise completed successfully!\")\n",
        "        print(f\"✅ Found {len(model_classes)} model classes\")\n",
        "        print(f\"✅ Sample data created: {data_count} records\")\n",
        "        print(\"✅ Advanced joins and subqueries techniques practiced\")\n",
        "        return True\n",
        "        \n",
        "    except Exception as e:\n",
        "        print(f\"❌ Error during validation: {e}\")\n",
        "        return False\n",
        "\n",
        "validate_exercise()\n"
      ]
    }
  ],
  "metadata": {
    "language_info": {
      "name": "python"
    }
  },
  "nbformat": 4,
  "nbformat_minor": 2
}
