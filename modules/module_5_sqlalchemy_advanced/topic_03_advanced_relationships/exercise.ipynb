{
  "cells": [
    {
      "cell_type": "markdown",
      "metadata": {},
      "source": [
        "# Exercise: Advanced Relationships with SQLAlchemy\n",
        "\n",
        "## Instructions\n",
        "\n",
        "1. Complete each exercise in order\n",
        "2. Create your own domain models for advanced relationship practice\n",
        "3. Run the validation after each exercise\n",
        "4. Check the solution notebook only if you get stuck!\n",
        "\n",
        "## Learning Goals\n",
        "\n",
        "- Master complex many-to-many relationships with additional attributes\n",
        "- Handle self-referential relationships and hierarchical data\n",
        "- Implement polymorphic associations and inheritance patterns\n",
        "- Use hybrid properties for computed attributes\n",
        "- Optimize relationship loading strategies\n"
      ]
    },
    {
      "cell_type": "markdown",
      "metadata": {},
      "source": [
        "## Exercise 1: Complex Many-to-Many Relationships\n",
        "\n",
        "Create models with many-to-many relationships that include additional attributes in the association table.\n"
      ]
    },
    {
      "cell_type": "code",
      "execution_count": null,
      "metadata": {},
      "outputs": [],
      "source": [
        "# TODO: Create complex many-to-many relationships\n",
        "# 1. Create a domain with at least 3 models that have many-to-many relationships\n",
        "# 2. Use association objects (not simple tables) for the many-to-many relationships\n",
        "# 3. Include additional attributes in the association objects\n",
        "# 4. Create sample data that demonstrates the relationships\n",
        "# 5. Query the relationships and show how to access additional attributes\n",
        "# 6. Examples: Student-Course with grades, Employee-Project with roles, User-Permission with expiration dates\n",
        "\n",
        "# Your complex many-to-many relationships code here:\n"
      ]
    }
  ],
  "metadata": {
    "language_info": {
      "name": "python"
    }
  },
  "nbformat": 4,
  "nbformat_minor": 2
}
