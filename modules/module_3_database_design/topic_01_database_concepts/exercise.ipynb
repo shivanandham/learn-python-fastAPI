{
  "cells": [
    {
      "cell_type": "markdown",
      "metadata": {},
      "source": [
        "# Exercise: Database Concepts\n",
        "\n",
        "## Part 1: Guided Implementation\n",
        "\n",
        "In this section, you'll work with database concepts using provided examples and instructions.\n",
        "\n",
        "## Part 2: Complete Database Design\n",
        "\n",
        "In this section, you'll design database schemas from scratch, choosing appropriate structures and relationships.\n",
        "\n",
        "## Instructions\n",
        "1. Complete each exercise in order\n",
        "2. Use your own unique data and scenarios (not the examples)\n",
        "3. Run the validation after each exercise\n",
        "4. Check the solution notebook only if you get stuck!\n"
      ]
    }
  ],
  "metadata": {
    "language_info": {
      "name": "python"
    }
  },
  "nbformat": 4,
  "nbformat_minor": 2
}
