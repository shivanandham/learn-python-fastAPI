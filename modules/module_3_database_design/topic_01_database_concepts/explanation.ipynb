{
  "cells": [
    {
      "cell_type": "markdown",
      "metadata": {},
      "source": [
        "# Database Concepts\n",
        "\n",
        "## Learning Objectives\n",
        "- Understand fundamental database concepts\n",
        "- Learn about different types of databases\n",
        "- Master database design principles\n",
        "- Understand ACID properties and transactions\n",
        "- Learn about database management systems\n",
        "\n",
        "## What You'll Learn\n",
        "- What databases are and why we need them\n",
        "- Relational vs NoSQL databases\n",
        "- Tables, rows, columns, and relationships\n",
        "- Primary keys, foreign keys, and constraints\n",
        "- Database normalization concepts\n",
        "- ACID properties and transaction management\n"
      ]
    }
  ],
  "metadata": {
    "language_info": {
      "name": "python"
    }
  },
  "nbformat": 4,
  "nbformat_minor": 2
}
