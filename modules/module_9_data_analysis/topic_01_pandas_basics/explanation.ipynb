{
  "cells": [
    {
      "cell_type": "markdown",
      "metadata": {},
      "source": [
        "# Pandas Basics\n",
        "\n",
        "## Learning Objectives\n",
        "- Understand pandas DataFrames and Series\n",
        "- Learn data loading and saving operations\n",
        "- Master data selection and filtering\n",
        "- Understand data manipulation and transformation\n",
        "- Learn basic statistical operations\n",
        "\n",
        "## What You'll Learn\n",
        "- Pandas data structures (DataFrame, Series)\n",
        "- Reading data from various sources (CSV, JSON, databases)\n",
        "- Data selection and indexing\n",
        "- Data cleaning and preprocessing\n",
        "- Basic statistical analysis\n",
        "- Data visualization with matplotlib/seaborn\n"
      ]
    }
  ],
  "metadata": {
    "language_info": {
      "name": "python"
    }
  },
  "nbformat": 4,
  "nbformat_minor": 2
}
